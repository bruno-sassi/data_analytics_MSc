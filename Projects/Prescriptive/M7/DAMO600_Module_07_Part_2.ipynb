{
 "cells": [
  {
   "cell_type": "markdown",
   "id": "817884b9",
   "metadata": {},
   "source": [
    "\n",
    "# DAMO600 — Prescriptive Analytics  \n",
    "## Module 7 (Part 2): Practice Question & Key Components of Simulation Models\n",
    "\n",
    "This notebook implements **Part 2** of Module 7 using your provided instructional content:\n",
    "\n",
    "- Practice question on a bank/teller system\n",
    "- Step-by-step calculations: average wait time and teller utilization\n",
    "- Extension to two tellers and more customers\n",
    "- Introducing random elements (inter-arrival and service distributions)\n",
    "- A minimal **discrete-event simulation (DES)** implementation in Python\n",
    "- A summary of **key components** of simulation models\n"
   ]
  },
  {
   "cell_type": "markdown",
   "id": "11e92ee0",
   "metadata": {},
   "source": [
    "\n",
    "## 1) Practice Question — Average Customer Wait Time\n",
    "\n",
    "We are given 5 customers with the following **wait times** (minutes):\n",
    "\n",
    "- Customer 1: 0 (immediate service)  \n",
    "- Customer 2: 1 (waited from 3 to 4)  \n",
    "- Customer 3: 0 (immediate service)  \n",
    "- Customer 4: 3 (waited from 9 to 12)  \n",
    "- Customer 5: 0 (immediate service)  \n",
    "\n",
    "**Total wait** = 0 + 1 + 0 + 3 + 0 = **4** minutes.  \n",
    "**Number of customers** = **5**.  \n",
    "**Average wait time** = 4 / 5 = **0.8 minutes**.\n"
   ]
  },
  {
   "cell_type": "code",
   "execution_count": 2,
   "id": "d8fc4f03",
   "metadata": {},
   "outputs": [
    {
     "data": {
      "text/plain": [
       "0.8"
      ]
     },
     "execution_count": 2,
     "metadata": {},
     "output_type": "execute_result"
    }
   ],
   "source": [
    "\n",
    "# Step 1: Verify average wait calculation\n",
    "waits = [0, 1, 0, 3, 0]\n",
    "avg_wait = sum(waits) / len(waits)\n",
    "avg_wait\n"
   ]
  },
  {
   "cell_type": "markdown",
   "id": "4bae26d2",
   "metadata": {},
   "source": [
    "\n",
    "## 2) Practice Question — Teller Utilization\n",
    "\n",
    "- **Total simulation time** = 18 minutes  \n",
    "- **Service times** (sum) = 4 + 3 + 5 + 2 + 3 = **17** minutes  \n",
    "- **Utilization** = 17 / 18 = **94.44%**\n"
   ]
  },
  {
   "cell_type": "code",
   "execution_count": 3,
   "id": "75b9200b",
   "metadata": {},
   "outputs": [
    {
     "data": {
      "text/plain": [
       "94.44444444444444"
      ]
     },
     "execution_count": 3,
     "metadata": {},
     "output_type": "execute_result"
    }
   ],
   "source": [
    "\n",
    "# Step 2: Verify teller utilization\n",
    "total_time = 18\n",
    "service_times = [4, 3, 5, 2, 3]\n",
    "utilization = sum(service_times) / total_time\n",
    "utilization * 100\n"
   ]
  },
  {
   "cell_type": "markdown",
   "id": "30f12565",
   "metadata": {},
   "source": [
    "\n",
    "## 3) Extension — Two Tellers + More Customers\n",
    "\n",
    "We extend the example to **two tellers** and add three more customers. The provided event table looks like this (selected fields shown):\n",
    "\n",
    "| Event | Clock | Inter-arrival | Arrival | Service | Teller 1 Start | Teller 1 End | Teller 2 Start | Teller 2 End | Queue |\n",
    "|---|---:|---:|---:|---:|---:|---:|---:|---:|---:|\n",
    "| E1 | 0  | 5 | 0  | 4 | 0  | 4  | –  | –  | 0 |\n",
    "| E2 | 3  | 3 | 3  | 3 | –  | –  | 3  | 6  | 0 |\n",
    "| E3 | 7  | 4 | 7  | 5 | 7  | 12 | –  | –  | 0 |\n",
    "| E4 | 9  | 2 | 9  | 2 | –  | –  | 9  | 11 | 0 |\n",
    "| E5 | 15 | 6 | 15 | 3 | 15 | 18 | –  | –  | 0 |\n",
    "| E6 | 18 | 3 | 18 | 4 | 18 | 22 | –  | –  | 0 |\n",
    "| E7 | 20 | 2 | 20 | 3 | –  | –  | 20 | 23 | 0 |\n",
    "| E8 | 24 | 4 | 24 | 5 | 24 | 29 | –  | –  | 0 |\n",
    "\n",
    "Below we implement a small **two-server FCFS** scheduler and compute standard metrics.\n"
   ]
  },
  {
   "cell_type": "code",
   "execution_count": 4,
   "id": "3d9fefc1",
   "metadata": {},
   "outputs": [
    {
     "data": {
      "text/plain": [
       "(0.0,\n",
       " {0: 0.6206896551724138, 1: 0.3793103448275862},\n",
       " [(1, 0, 0, 0, 4),\n",
       "  (2, 1, 3, 3, 6),\n",
       "  (3, 0, 7, 7, 12),\n",
       "  (4, 1, 9, 9, 11),\n",
       "  (5, 1, 15, 15, 18),\n",
       "  (6, 0, 18, 18, 22),\n",
       "  (7, 1, 20, 20, 23),\n",
       "  (8, 0, 24, 24, 29)])"
      ]
     },
     "execution_count": 4,
     "metadata": {},
     "output_type": "execute_result"
    }
   ],
   "source": [
    "\n",
    "# Two-teller FCFS scheduler for deterministic arrivals & service times\n",
    "from dataclasses import dataclass\n",
    "from typing import List, Tuple\n",
    "\n",
    "@dataclass\n",
    "class EventLog:\n",
    "    customer: int\n",
    "    arrival: float\n",
    "    service: float\n",
    "    start: float\n",
    "    end: float\n",
    "    server: int\n",
    "\n",
    "def simulate_two_servers(arrivals: List[float], services: List[float], num_servers: int = 2):\n",
    "    # Track next-available time for each server\n",
    "    available_at = [0.0 for _ in range(num_servers)]\n",
    "    logs: List[EventLog] = []\n",
    "    queue: List[int] = []  # indexes of waiting customers (FCFS)\n",
    "    \n",
    "    # We'll process customers in order; when they arrive,\n",
    "    # assign them to the earliest available server (if available now),\n",
    "    # otherwise they wait in the queue until a server frees up.\n",
    "    current_time = 0.0\n",
    "    n = len(arrivals)\n",
    "    \n",
    "    # Sort by arrival order (already sorted, but let's be safe)\n",
    "    order = sorted(range(n), key=lambda i: arrivals[i])\n",
    "    \n",
    "    for idx in order:\n",
    "        arrival = arrivals[idx]\n",
    "        service = services[idx]\n",
    "        current_time = max(current_time, arrival)\n",
    "        \n",
    "        # Find server that becomes free the earliest\n",
    "        s = min(range(num_servers), key=lambda k: available_at[k])\n",
    "        start_time = max(arrival, available_at[s])\n",
    "        end_time = start_time + service\n",
    "        \n",
    "        logs.append(EventLog(customer=idx+1, arrival=arrival, service=service, start=start_time, end=end_time, server=s))\n",
    "        available_at[s] = end_time\n",
    "    \n",
    "    return logs\n",
    "\n",
    "# Use the Arrival/Service pairs from the extended table (E1..E8) as arrival/service times.\n",
    "arrivals = [0, 3, 7, 9, 15, 18, 20, 24]\n",
    "services = [4, 3, 5, 2, 3, 4, 3, 5]\n",
    "\n",
    "logs = simulate_two_servers(arrivals, services, num_servers=2)\n",
    "\n",
    "# Compute metrics\n",
    "avg_wait = sum(log.start - log.arrival for log in logs) / len(logs)\n",
    "util_by_server = {}\n",
    "for s in set(l.server for l in logs):\n",
    "    busy = sum(l.end - l.start for l in logs if l.server == s)\n",
    "    horizon = max(l.end for l in logs)\n",
    "    util_by_server[s] = busy / horizon\n",
    "\n",
    "avg_wait, util_by_server, [(l.customer, l.server, l.arrival, l.start, l.end) for l in logs]\n"
   ]
  },
  {
   "cell_type": "markdown",
   "id": "ee18feb7",
   "metadata": {},
   "source": [
    "\n",
    "## 4) Introducing Random Elements\n",
    "\n",
    "We now **randomize** inter-arrival and service times using common distributions:\n",
    "\n",
    "- **Inter-arrival times**: Exponential with mean 4 minutes  \n",
    "- **Service times**: Normal with mean 3.5 minutes and standard deviation 1 minute\n",
    "\n",
    "We'll generate a small sample to illustrate.\n"
   ]
  },
  {
   "cell_type": "code",
   "execution_count": 8,
   "id": "b2861c5e",
   "metadata": {},
   "outputs": [
    {
     "name": "stdout",
     "output_type": "stream",
     "text": [
      "Inter-arrival times: [ 1.877 12.04   5.267  3.652  0.678  0.678  0.239  8.045  3.676  4.925]\n",
      "Service times: [3.031 4.043 3.037 3.034 3.742 1.587 1.775 2.938 2.487 3.814]\n"
     ]
    }
   ],
   "source": [
    "\n",
    "import numpy as np\n",
    "\n",
    "np.random.seed(42)  # reproducibility\n",
    "\n",
    "inter_arrival_times = np.random.exponential(scale=4, size=10)\n",
    "service_times_sample = np.random.normal(loc=3.5, scale=1.0, size=10)\n",
    "\n",
    "print(\"Inter-arrival times:\", np.round(inter_arrival_times, 3))\n",
    "print(\"Service times:\", np.round(service_times_sample, 3))\n"
   ]
  },
  {
   "cell_type": "code",
   "execution_count": 9,
   "id": "3de3215c",
   "metadata": {},
   "outputs": [
    {
     "data": {
      "text/plain": [
       "(np.float64(0.4501607626394829),\n",
       " {0: 0.313440969133228, 1: 0.34338298900729786})"
      ]
     },
     "execution_count": 9,
     "metadata": {},
     "output_type": "execute_result"
    }
   ],
   "source": [
    "\n",
    "# Convert inter-arrival times to absolute arrival times, then simulate with two servers.\n",
    "import numpy as np\n",
    "\n",
    "arrivals_random = np.cumsum(inter_arrival_times)\n",
    "services_random = np.clip(service_times_sample, 0.2, None)  # clip to avoid negative/zero times\n",
    "\n",
    "logs_random = simulate_two_servers(arrivals_random.tolist(), services_random.tolist(), num_servers=2)\n",
    "\n",
    "avg_wait_random = np.mean([l.start - l.arrival for l in logs_random])\n",
    "horizon_random = max(l.end for l in logs_random)\n",
    "util_by_server_random = {}\n",
    "for s in set(l.server for l in logs_random):\n",
    "    busy = sum(l.end - l.start for l in logs_random if l.server == s)\n",
    "    util_by_server_random[s] = busy / horizon_random\n",
    "\n",
    "avg_wait_random, util_by_server_random\n"
   ]
  },
  {
   "cell_type": "code",
   "execution_count": 10,
   "id": "1595fdd8",
   "metadata": {},
   "outputs": [
    {
     "data": {
      "image/png": "[encoded data removed]",
      "text/plain": [
       "<Figure size 640x480 with 1 Axes>"
      ]
     },
     "metadata": {},
     "output_type": "display_data"
    }
   ],
   "source": [
    "\n",
    "# Plot queueing performance proxies (waiting times histogram) using matplotlib (no seaborn, no styles)\n",
    "import matplotlib.pyplot as plt\n",
    "\n",
    "waits = [l.start - l.arrival for l in logs_random]\n",
    "\n",
    "plt.figure()\n",
    "plt.hist(waits, bins=15, density=False)\n",
    "plt.title(\"Randomized Scenario: Distribution of Waiting Times (Two Servers)\")\n",
    "plt.xlabel(\"Wait time (minutes)\")\n",
    "plt.ylabel(\"Count\")\n",
    "plt.show()\n"
   ]
  },
  {
   "cell_type": "markdown",
   "id": "e1fd9da5",
   "metadata": {},
   "source": [
    "\n",
    "## 5) Minimal DES in Pure Python (Single Teller)\n",
    "\n",
    "Below is a pure-Python **discrete-event** simulation for a **single teller**, using the original 5 customers.\n",
    "It produces an **event log** similar to the expected output.\n"
   ]
  },
  {
   "cell_type": "code",
   "execution_count": 11,
   "id": "5a882665",
   "metadata": {},
   "outputs": [
    {
     "name": "stdout",
     "output_type": "stream",
     "text": [
      "Customer 1 arrives at 0.00\n",
      "Customer 1 starts service at 0.00\n",
      "Customer 1 departs at 4.00\n",
      "Customer 2 arrives at 3.00\n",
      "Customer 2 starts service at 4.00\n",
      "Customer 2 departs at 7.00\n",
      "Customer 3 arrives at 7.00\n",
      "Customer 3 starts service at 7.00\n",
      "Customer 3 departs at 12.00\n",
      "Customer 4 arrives at 9.00\n",
      "Customer 4 starts service at 12.00\n",
      "Customer 4 departs at 14.00\n",
      "Customer 5 arrives at 15.00\n",
      "Customer 5 starts service at 15.00\n",
      "Customer 5 departs at 18.00\n"
     ]
    }
   ],
   "source": [
    "\n",
    "# Minimal DES for a single teller (deterministic arrivals & services)\n",
    "# Expected arrivals: [0, 3, 7, 9, 15]\n",
    "# Expected services: [4, 3, 5, 2, 3]\n",
    "\n",
    "arrivals_det = [0, 3, 7, 9, 15]\n",
    "services_det = [4, 3, 5, 2, 3]\n",
    "\n",
    "teller_free_at = 0.0\n",
    "print_log = []\n",
    "for i, (arr, svc) in enumerate(zip(arrivals_det, services_det), start=1):\n",
    "    print_log.append(f\"Customer {i} arrives at {arr:.2f}\")\n",
    "    start = max(arr, teller_free_at)\n",
    "    print_log.append(f\"Customer {i} starts service at {start:.2f}\")\n",
    "    end = start + svc\n",
    "    print_log.append(f\"Customer {i} departs at {end:.2f}\")\n",
    "    teller_free_at = end\n",
    "\n",
    "print(\"\\n\".join(print_log))\n"
   ]
  },
  {
   "cell_type": "markdown",
   "id": "b0be1e45",
   "metadata": {},
   "source": [
    "\n",
    "## 6) Key Components of Simulation Models\n",
    "\n",
    "- **Entities**: Distinct objects that move through the system (e.g., clients, orders, packets) with attributes (arrival time, priority, service need).  \n",
    "- **Activities & Events**: Activities are operations entities undergo; **events** are instantaneous changes in system state (arrival, service completion, breakdown).  \n",
    "- **State Variables**: Describe the current condition of the system (queue length, server status, resource levels).  \n",
    "- **Resources**: Limited-capacity assets (tellers, machines, OR rooms) that entities seize and release; capacity and scheduling constraints matter.  \n",
    "- **Logical Structure**: The process flow and decision rules (routing, priorities, balking/reneging, batching) that govern entity movement and resource allocation.  \n",
    "- **Random Numbers & Distributions**: Mechanisms that inject stochasticity (inter-arrival/service times, breakdowns). Choice of distributions and parameters should be evidence-based.\n"
   ]
  },
  {
   "cell_type": "markdown",
   "id": "e9c39b79",
   "metadata": {},
   "source": [
    "\n",
    "## 7) Checks for Understanding\n",
    "\n",
    "1. Re-run the two-teller scheduler with different arrival/service patterns. How do **average wait** and **utilization** shift?  \n",
    "2. Replace the exponential inter-arrivals with **Erlang** or **lognormal**. What changes in tail behaviour of waits?  \n",
    "3. Add **priority**: VIP customers preempt the queue. How would you encode this in the scheduler?\n"
   ]
  }
 ],
 "metadata": {
  "kernelspec": {
   "display_name": "PA-Venv",
   "language": "python",
   "name": "python3"
  },
  "language_info": {
   "codemirror_mode": {
    "name": "ipython",
    "version": 3
   },
   "file_extension": ".py",
   "mimetype": "text/x-python",
   "name": "python",
   "nbconvert_exporter": "python",
   "pygments_lexer": "ipython3",
   "version": "3.13.5"
  }
 },
 "nbformat": 4,
 "nbformat_minor": 5
}
