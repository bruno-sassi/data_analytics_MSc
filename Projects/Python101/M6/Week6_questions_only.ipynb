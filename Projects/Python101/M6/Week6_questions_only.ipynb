{
 "cells": [
  {
   "cell_type": "markdown",
   "id": "8aa8c78e-f330-431e-8821-ed7c394a4e65",
   "metadata": {},
   "source": [
    "# Analysis of the NYC 311 Dataset\n",
    "\n",
    "The NYC 311 dataset contains records of non-emergency service requests made by residents of New York City. These complaints are submitted via phone, web, or mobile app and include issues like noise complaints, illegal parking, blocked driveways, and more.\n",
    "\n",
    "Each record typically includes:\n",
    "- The type of complaint\n",
    "- Date and time the complaint was created and closed\n",
    "- The location of the incident (ZIP code, street address)\n",
    "- The agency responsible\n",
    "- Status and resolution details\n",
    "\n",
    "You will use your knowledge of Pandas to do the following activity."
   ]
  },
  {
   "cell_type": "markdown",
   "id": "8905b5da-aae2-4af0-ad99-42d25019b6b1",
   "metadata": {},
   "source": [
    "### Step 1: Load and Inspect the NYC 311 Dataset\n",
    "\n",
    "In this step, you'll load the NYC 311 complaint dataset from CSV and explore its structure.\n",
    "\n",
    "- Call the DataFrame `df_311`\n",
    "- Check how many rows and columns it contains.\n",
    "- View the first 5 rows to understand the kind of data you're working with.\n",
    "- List all column names.\n",
    "- **Pay special attention to the date columns** (e.g., `Created Date`, `Closed Date`, etc.) and observe any formatting inconsistencies.\n",
    "\n",
    "**Question:**  \n",
    "What kinds of issues do you notice in the formatting of the date columns?"
   ]
  },
  {
   "cell_type": "code",
   "execution_count": null,
   "id": "f33fe47f-fc83-4edc-acaa-1006f1c45b77",
   "metadata": {},
   "outputs": [],
   "source": [
    "# Your code here"
   ]
  },
  {
   "cell_type": "markdown",
   "id": "51bb4e0f-4a09-4a39-ae39-ff2f265628f7",
   "metadata": {},
   "source": [
    "### Step 2: Convert Date Columns to Datetime\n",
    "\n",
    "In this step, you'll convert the following columns to proper datetime format:\n",
    "\n",
    "- `Created Date`\n",
    "- `Closed Date`\n",
    "- `Due Date`\n",
    "- `Resolution Action Updated Date`\n",
    "\n",
    "Since the dataset contains **mixed date formats**, you should **not specify a date format**. Instead, use `errors='coerce'` to safely handle problematic rows (they will become `NaT`).\n",
    "\n",
    "You may get warnings during this step — **you may ignore them**. The warning may ask you to specify a format, but since there are different kinds of date/time formats in those columns, letting Pandas to fix them is the most robust method."
   ]
  },
  {
   "cell_type": "code",
   "execution_count": null,
   "id": "52fbafba-8c70-4cdc-b725-38eb10df80d4",
   "metadata": {},
   "outputs": [],
   "source": [
    "# Your code here"
   ]
  },
  {
   "cell_type": "markdown",
   "id": "3cf58c0e-b026-4927-9a2a-c8f7399afa5d",
   "metadata": {},
   "source": [
    "### Step 3: Sorting Practice Questions to Explore `df_311`\n",
    "\n",
    "Use the dataset `df_311` to practice various **sorting techniques**.\n",
    "\n",
    "1. **Basic sorting (ascending)**:  \n",
    "   - Sort the DataFrame by `Created Date` in ascending order and show the first 5 rows.\n",
    "\n",
    "2. **Descending sort**:  \n",
    "   - Sort by `Closed Date` in descending order and display the top 5 complaints with the latest closing times.\n",
    "\n",
    "3. **Sorting by multiple columns**:  \n",
    "   - Sort first by `Complaint Type` (A–Z), then by `Created Date` (newest first).\n",
    "\n",
    "4. **Sorting with a custom function**:  \n",
    "   - Sort complaints by the **length** of the `Descriptor` column, longest first.\n",
    "\n",
    "5. **In-place sorting**:  \n",
    "   - Sort the DataFrame by `Due Date` in-place, then show the last 5 rows."
   ]
  },
  {
   "cell_type": "code",
   "execution_count": null,
   "id": "9b894d2e-f497-4659-a5a4-4300e056c314",
   "metadata": {},
   "outputs": [],
   "source": [
    "# 1. Sort the DataFrame by Created Date in ascending order and show the first 5 rows.\n",
    "# Your code here"
   ]
  },
  {
   "cell_type": "code",
   "execution_count": null,
   "id": "c99e55b2-8578-4007-a435-cb2b5481c193",
   "metadata": {},
   "outputs": [],
   "source": [
    "# 2. Sort by Closed Date in descending order and display the top 5 complaints with the latest closing times.\n",
    "# Your code here"
   ]
  },
  {
   "cell_type": "code",
   "execution_count": null,
   "id": "40aa693b-87d7-42f2-bdb4-4cf9d8f39dff",
   "metadata": {},
   "outputs": [],
   "source": [
    "# 3. Sort first by Complaint Type (A–Z), then by Created Date (newest first).\n",
    "# Your code here"
   ]
  },
  {
   "cell_type": "code",
   "execution_count": null,
   "id": "5bff04b2-8210-49b3-aa9a-3dd70e168a8b",
   "metadata": {},
   "outputs": [],
   "source": [
    "# 4. Sort complaints by the length of the Descriptor column, longest first.\n",
    "# Your code here"
   ]
  },
  {
   "cell_type": "code",
   "execution_count": null,
   "id": "94e0ebd9-cd1b-4dc9-9eef-dbc796d8b0c4",
   "metadata": {},
   "outputs": [],
   "source": [
    "# 5. Sort the DataFrame by Due Date in-place, then show the last 5 rows.\n",
    "# Your code here"
   ]
  },
  {
   "cell_type": "code",
   "execution_count": null,
   "id": "8a4d1dee-015a-4aed-a45f-f50e397fc924",
   "metadata": {},
   "outputs": [],
   "source": []
  },
  {
   "cell_type": "markdown",
   "id": "33476861-a4dd-41be-8e68-87591b37422d",
   "metadata": {},
   "source": [
    "### Step 4: Filtering Practice Questions to Explore `df_311`\n",
    "\n",
    "Use the dataset `df_311` to answer the following questions by applying **filtering techniques** covered in this module.\n",
    "\n",
    "1. **Boolean indexing**:  \n",
    "   - Show all rows where the status is `\"Closed\"`.\n",
    "\n",
    "2. **isin() for multiple values**:  \n",
    "   - Show complaints where the complaint type is either `\"Illegal Parking\"`, `\"Noise - Street/Sidewalk\"`, or `\"Blocked Driveway\"`.\n",
    "\n",
    "3. **Multiple conditions**:  \n",
    "   - Show `\"Blocked Driveway\"` complaints where the incident ZIP is either `10007` or `10307`.\n",
    "\n",
    "4. **String method – startswith()**:  \n",
    "   - Find all complaints where the street name starts with the letter `'E'`.\n",
    "\n",
    "5. **iloc[]**:  \n",
    "   - Display the first 3 rows and the 2nd to 5th columns using integer-based indexing.\n",
    "\n",
    "6. **loc[]**:  \n",
    "   - Use label-based selection to show `Complaint Type`, `Created Date`, and `Status` for ZIP code `11373`.\n",
    "\n",
    "7. **between()**:  \n",
    "   - Filter complaints where the `Created Date` falls between **October 1, 2015** and **October 2, 2015**.\n"
   ]
  },
  {
   "cell_type": "code",
   "execution_count": null,
   "id": "c73af623-3369-43c4-b384-bbb9ae9d1103",
   "metadata": {},
   "outputs": [],
   "source": [
    "# 1. Show all rows where the status is \"Closed\".\n",
    "# Your code here"
   ]
  },
  {
   "cell_type": "code",
   "execution_count": null,
   "id": "baf33f2d-0e74-4dc3-9922-bca88162a1d6",
   "metadata": {},
   "outputs": [],
   "source": [
    "# 2. Show complaints where the complaint type is either \"Illegal Parking\", \"Noise - Street/Sidewalk\", or \"Blocked Driveway\".\n",
    "# Your code here"
   ]
  },
  {
   "cell_type": "code",
   "execution_count": null,
   "id": "128a9e79-4662-4f89-8cc2-a048e7c3eac8",
   "metadata": {},
   "outputs": [],
   "source": [
    "# 3. Show \"Blocked Driveway\" complaints where the incident ZIP is either 10007 or 10307.\n",
    "# Your code here"
   ]
  },
  {
   "cell_type": "code",
   "execution_count": null,
   "id": "04943d64-b9ef-428c-a034-fea617e030f3",
   "metadata": {},
   "outputs": [],
   "source": [
    "# 4. Find all complaints where the street name starts with the letter 'E'.\n",
    "# Your code here"
   ]
  },
  {
   "cell_type": "code",
   "execution_count": null,
   "id": "5af4932f-26b4-41ae-a6c9-e3c53e8d970c",
   "metadata": {},
   "outputs": [],
   "source": [
    "# 5. Display the first 3 rows and the 2nd to 5th columns using integer-based indexing.\n",
    "# Your code here"
   ]
  },
  {
   "cell_type": "code",
   "execution_count": null,
   "id": "f0f14b0e-9e2f-4138-94f7-301a0f89fb55",
   "metadata": {},
   "outputs": [],
   "source": [
    "# 6. Show Complaint Type, Created Date, and Status for ZIP code 11373 using label-based selection.\n",
    "# Your code here"
   ]
  },
  {
   "cell_type": "code",
   "execution_count": null,
   "id": "d12a1184-569f-473f-b6fd-1ea5e50f947d",
   "metadata": {},
   "outputs": [],
   "source": [
    "# 7. Filter complaints where the Created Date falls between October 1, 2015 and October 2, 2015.\n",
    "# Your code here"
   ]
  },
  {
   "cell_type": "markdown",
   "id": "89f2d3e1-c881-49a6-b5fb-f71b2d828ef7",
   "metadata": {},
   "source": [
    "### Step 5: Calculate Response Time in Hours\n",
    "\n",
    "To analyze how long it takes to respond to a 311 complaint, we'll calculate the **response time** by subtracting the `Created Date` from the `Closed Date`.\n",
    "\n",
    "- Subtracting two datetime columns gives a **Timedelta** object.\n",
    "- To convert the timedelta to a numeric value (in seconds), use `.dt.total_seconds()`.\n",
    "- Finally, divide by 3600 to convert seconds to **hours**.\n",
    "\n",
    "We will store the result in a new column called `Response Time (hrs)`."
   ]
  },
  {
   "cell_type": "code",
   "execution_count": null,
   "id": "a5fb19a4-51e6-4371-87a0-fbca424f71ac",
   "metadata": {},
   "outputs": [],
   "source": [
    "# Your code here"
   ]
  },
  {
   "cell_type": "markdown",
   "id": "04100a2e-2c50-4184-9d72-962f966a2d4b",
   "metadata": {},
   "source": [
    "### Step 6: Analyze Response Times\n",
    "\n",
    "1. **Filter long response times**  \n",
    "   Identify complaints where the response time exceeded **24 hours**.\n",
    "\n",
    "2. **Classify as 'Fast' or 'Slow'**  \n",
    "   Based on the `Response Time (hrs)`, classify each complaint as:\n",
    "   - `'Fast'` if response time is **6 hours or less**\n",
    "   - `'Slow'` if it took **more than 6 hours**\n",
    "\n",
    "This helps in understanding how efficiently complaints were addressed."
   ]
  },
  {
   "cell_type": "code",
   "execution_count": null,
   "id": "c2b0fd00-f2c0-4ea4-a921-d0b081f6eeee",
   "metadata": {},
   "outputs": [],
   "source": [
    "# Filter complaints that took longer than 24 hours to close\n",
    "# Your code here"
   ]
  },
  {
   "cell_type": "code",
   "execution_count": null,
   "id": "fba66686-87c3-452b-bdb8-513c45b364bb",
   "metadata": {},
   "outputs": [],
   "source": [
    "# Classify responses based on a 6-hour threshold\n",
    "# Your code here"
   ]
  },
  {
   "cell_type": "markdown",
   "id": "40bd8338-105a-4949-a285-7819e088cba0",
   "metadata": {},
   "source": [
    "### Step 7: Average Response Time by Complaint Type\n",
    "\n",
    "To understand which types of complaints take longer to resolve on average:\n",
    "\n",
    "- Use `groupby()` on the `Complaint Type` column.\n",
    "- Calculate the **mean** of `Response Time (hrs)` for each group."
   ]
  },
  {
   "cell_type": "code",
   "execution_count": null,
   "id": "dda51252-b444-4d61-af28-65977776c68d",
   "metadata": {},
   "outputs": [],
   "source": [
    "# Your code here"
   ]
  },
  {
   "cell_type": "markdown",
   "id": "76e5fc49-d5ca-4a57-928c-2669cbec044c",
   "metadata": {},
   "source": [
    "### Step 8: Load and Inspect ZIP Code Information\n",
    "\n",
    "In this step, you'll load the ZIP code information dataset and inspect its structure. The file name is `zip_code_info.csv`\n",
    "\n",
    "- How many ZIP codes are listed?\n",
    "- What columns are available?\n",
    "- View the first few rows to understand the kind of information it provides (e.g., population, borough).\n"
   ]
  },
  {
   "cell_type": "code",
   "execution_count": null,
   "id": "76d37976-eb9d-43a3-a329-2883666a0c32",
   "metadata": {},
   "outputs": [],
   "source": [
    "# Your code here"
   ]
  },
  {
   "cell_type": "code",
   "execution_count": null,
   "id": "7c049f5b-f822-47ad-9d8e-08fa6238f7a3",
   "metadata": {},
   "outputs": [],
   "source": []
  },
  {
   "cell_type": "markdown",
   "id": "ebd7bf8a-d192-47e3-b4b5-81ed1b7a6cc2",
   "metadata": {},
   "source": [
    "### Step 9: Find Complaints in the Most Populated ZIP Code\n",
    "\n",
    "To understand how complaints are distributed in areas with dense populations:\n",
    "\n",
    "1. Identify the ZIP code with the **highest population** from `zip_info`.\n",
    "2. Filter the complaints dataframe to include only those that occurred in that ZIP.\n",
    "3. Get the total number of complaints in that zip code.\n",
    "4. Display a few sample complaints from that ZIP."
   ]
  },
  {
   "cell_type": "code",
   "execution_count": null,
   "id": "2681bee9-acce-46a7-81fd-ec06e0de9e15",
   "metadata": {},
   "outputs": [],
   "source": [
    "# Your code here"
   ]
  },
  {
   "cell_type": "markdown",
   "id": "5d754c64-c794-431a-af44-0e7cf30c451c",
   "metadata": {},
   "source": [
    "### Step 10: Merge Complaint Data with ZIP Code Demographics\n",
    "\n",
    "We want to enrich the 311 dataset (`df_311`) with additional info from `zip_info`, such as population and borough name.\n",
    "\n",
    "Here's what we do:\n",
    "\n",
    "- Use `.merge()` to combine `df_311` and `zip_info`.\n",
    "- Match `Incident Zip` from the 311 data with `zip` from the ZIP info.\n",
    "- Use a **left join** to:\n",
    "  - Keep all rows from `df_311` (even if some ZIPs don’t match).\n",
    "  - Add population and borough data **only where a match exists**.\n",
    "\n",
    "After merging:\n",
    "- You'll see all columns from `zip_info`.\n",
    "- The `zip` column (from `zip_info`) becomes redundant — it duplicates `Incident Zip` — so drop it."
   ]
  },
  {
   "cell_type": "code",
   "execution_count": null,
   "id": "90a0ce6a-38c4-47d8-9747-25765f532734",
   "metadata": {},
   "outputs": [],
   "source": [
    "# Your code here"
   ]
  },
  {
   "cell_type": "markdown",
   "id": "7944194e-bf50-4cdc-a4a8-0eb055cfda5f",
   "metadata": {},
   "source": [
    "### Step 11: Map Borough Names to Abbreviations\n",
    "\n",
    "To simplify analysis and plots, we'll map full borough names to shorter codes using a dictionary.\n",
    "\n",
    "- Use the `.map()` function on the `Borough` column.\n",
    "- Provide a dictionary where keys are full names and values are abbreviations.\n",
    "- Store the result in a new column called `Borough Code`.\n",
    "\n",
    "Example:\n",
    "- `\"MANHATTAN\"` → `\"MH\"`\n",
    "- `\"BROOKLYN\"` → `\"BK\"`"
   ]
  },
  {
   "cell_type": "code",
   "execution_count": null,
   "id": "6b426f44-9300-4fcd-9774-36ffaeb7cdb2",
   "metadata": {},
   "outputs": [],
   "source": [
    "borough_map = {'MANHATTAN': 'MH', 'BROOKLYN': 'BK', 'QUEENS': 'QN', 'BRONX': 'BX', 'STATEN ISLAND': 'SI'}\n",
    "# Your code here"
   ]
  },
  {
   "cell_type": "markdown",
   "id": "c0a14b4f-cc23-43c3-a658-def55eb39a44",
   "metadata": {},
   "source": [
    "### Step 12: Calculate Total Complaints and Complaints per 1,000 Residents\n",
    "\n",
    "We want to understand how complaint volume compares across ZIP codes, adjusting for population size.\n",
    "\n",
    "#### Goal:\n",
    "- Count how many 311 complaints were made **per ZIP code**.\n",
    "- Normalize by population to get **complaints per 1,000 residents**. Complaints per 1000 is calculated as: total complaints divided by population, then multiplied by 1000.\n",
    "\n",
    "#### How?\n",
    "1. Use `.groupby()` to group data by ZIP.\n",
    "2. Use `.agg()` to compute:\n",
    "   - The total number of complaints using `count` on the `Unique Key`.\n",
    "   - The population using the `first` non-null value from the `population` column.\n",
    "   \n",
    "   You can pass this as a dictionary with:\n",
    "   ```python\n",
    "   .agg({'column name 1': 'aggregation function 1', 'column name 2': 'aggregation function 2', ...})\n"
   ]
  },
  {
   "cell_type": "code",
   "execution_count": null,
   "id": "3b29552d-0bd2-4f7a-b017-873af119099a",
   "metadata": {},
   "outputs": [],
   "source": [
    "# Your code here"
   ]
  },
  {
   "cell_type": "code",
   "execution_count": null,
   "id": "8030d880-ea70-4667-8426-4a42aa17172f",
   "metadata": {},
   "outputs": [],
   "source": []
  },
  {
   "cell_type": "markdown",
   "id": "adf87eef-d294-4a18-90d5-0ed126f10a32",
   "metadata": {},
   "source": [
    "### Step 13: How to JOIN the DataFrames?\n",
    "\n",
    "- `.join()` is mainly used to **combine two DataFrames by their index**.\n",
    "- It's best used when both DataFrames have a meaningful index (e.g., ZIP code).\n",
    "\n",
    "For this question, you already have a DataFrame:\n",
    "- `zip_info`: Demographic data per ZIP.\n",
    "\n",
    "And you create another one called `complaints_by_zip`\n",
    "- `zip_summary`: Total complaints per ZIP\n",
    "\n",
    "**Index both of them** with zip column.\n",
    "\n",
    "**Task:**\n",
    "1. Use `.join()` to perform a **left join** to add demographic info only for ZIPs that appear in the complaint summary.\n",
    "2. Use `.join()` again with **how='right'** to include **all ZIPs**, even those with no complaints.\n",
    "3. Compare the size of the two results."
   ]
  },
  {
   "cell_type": "code",
   "execution_count": null,
   "id": "ed57e6ce-f668-403c-b399-211a05ed11ad",
   "metadata": {},
   "outputs": [],
   "source": [
    "# Your code here\n",
    "# zip_summary = ?\n",
    "# zip_info_indexed = ?"
   ]
  },
  {
   "cell_type": "code",
   "execution_count": null,
   "id": "c35ac1ec-6655-4e8b-b36c-0e515da42dfb",
   "metadata": {},
   "outputs": [],
   "source": []
  },
  {
   "cell_type": "markdown",
   "id": "1da268b0-b837-400d-884d-17a5bd7d1d0c",
   "metadata": {},
   "source": [
    "### Step 14: Analyze Complaint Types Across Boroughs with a Pivot Table\n",
    "\n",
    "To summarize and compare complaint volumes across boroughs and types, we use a **pivot table**. Pivot tables are used when you want to **summarize grouped data** in a 2D format for easy comparison.\n",
    "\n",
    "#### What is a pivot table?\n",
    "A pivot table reshapes data:\n",
    "- **Rows (`index`)** represent categories you want to group by (e.g., `Borough Code`).\n",
    "- **Columns (`columns`)** represent subcategories (e.g., `Complaint Type`).\n",
    "- **Values (`values`)** are the numbers you want to compute (e.g., count of complaints).\n",
    "- **aggfunc** defines what to compute: `count`, `sum`, `mean`, etc.\n",
    "\n",
    "####  In this case:\n",
    "- We group complaints by **borough code**.\n",
    "- For each borough, we count the number of complaints of each **type**.\n",
    "- We use `fill_value=0` to replace missing combinations with zero (no complaints of that type)."
   ]
  },
  {
   "cell_type": "code",
   "execution_count": null,
   "id": "45c7a0bd-4147-421b-a01c-8b9e3d945c09",
   "metadata": {},
   "outputs": [],
   "source": [
    "# Your code here"
   ]
  },
  {
   "cell_type": "markdown",
   "id": "97702326-10d6-4a34-9807-148297769c67",
   "metadata": {},
   "source": [
    "### Step 15: Convert Pivot Table to Long Format with `melt()`\n",
    "\n",
    "We previously created a **pivot table** to compare complaint counts by borough and type. Now, we'll use `melt()` to convert that wide-format table back into a **long-format** DataFrame.\n",
    "\n",
    "\n",
    "#### What is `melt()`?\n",
    "\n",
    "- `melt()` is used to **unpivot** or **flatten** a DataFrame.\n",
    "- It turns columns into rows, which is useful when:\n",
    "  - You want to plot or analyze categorical data more easily.\n",
    "  - You need a **tidy format**: one row per observation.\n",
    "\n",
    "\n",
    "#### In this case:\n",
    "- `id_vars='Borough Code'` means we'll keep that column as-is.\n",
    "- All other columns (complaint types) become values in a new column: `'Complaint Type'`.\n",
    "- Their counts go into `'Complaint Count'`.\n",
    "\n",
    "This is useful for **grouped bar plots**, heatmaps, or exporting clean data."
   ]
  },
  {
   "cell_type": "code",
   "execution_count": null,
   "id": "cae02a1d-5a29-419d-8873-fd2dbe428557",
   "metadata": {},
   "outputs": [],
   "source": [
    "# Your code here"
   ]
  },
  {
   "cell_type": "markdown",
   "id": "a564b738-169a-4c32-813d-f0f0ba66d6a2",
   "metadata": {},
   "source": [
    "### Step 16: Save Complaint Summary and ZIP Info for Visualization\n",
    "\n",
    "We've computed the **total complaints and complaints per 1,000 residents** by ZIP code (`complaints_by_zip`), we’ll save this summary to a file for future use in visualizations (e.g., maps, bar charts).\n",
    "\n",
    "Do these:\n",
    "- Save `complaints_by_zip` to a **CSV file** for general use. Remember to deal with the index.\n",
    "- Also use the given code to export both `complaints_by_zip` and the full `zip_info` DataFrame to an **Excel file** with two separate sheets.\n",
    "\n",
    "**Note:** To use `pd.ExcelWriter` for saving `.xlsx` files, you need to have `openpyxl` library installed. If you get an error for that code cell, you can install it using the command:  \n",
    "`pip install openpyxl`\n"
   ]
  },
  {
   "cell_type": "code",
   "execution_count": null,
   "id": "ce68ca68-f1e8-4711-ae1d-4873b1188203",
   "metadata": {},
   "outputs": [],
   "source": [
    "# Save to CSV\n",
    "# Your code here"
   ]
  },
  {
   "cell_type": "code",
   "execution_count": null,
   "id": "a268cb85-040f-45e7-a8a3-5246c431ff74",
   "metadata": {},
   "outputs": [],
   "source": [
    "# Save both DataFrames to separate sheets in one Excel file\n",
    "with pd.ExcelWriter(\"zip_complaints_summary.xlsx\") as writer:\n",
    "    complaints_by_zip.to_excel(writer, sheet_name=\"Complaint Summary\", index=False)\n",
    "    zip_info.to_excel(writer, sheet_name=\"ZIP Info\", index=False)"
   ]
  },
  {
   "cell_type": "code",
   "execution_count": null,
   "id": "98ac9265-157e-485e-b8e8-5375ff903724",
   "metadata": {},
   "outputs": [],
   "source": []
  },
  {
   "cell_type": "markdown",
   "id": "984bb58d-fc5d-489b-b9a8-94af235876e3",
   "metadata": {},
   "source": [
    "# Bonus Section: Performance Comparison: Vectorized Operations vs. apply() vs. iterrows()\n",
    "\n",
    "When working with pandas, **how** you write your operations can make a huge difference in performance — especially on large datasets.\n",
    "\n",
    "In this example, we compare three common ways to assign a new column based on `Response Time (hrs)`. We have already solved this problem but let's revisit it:\n",
    "\n",
    "**Question was**: Label each row as `'Fast'` if the response time is 6 hours or less, and `'Slow'` otherwise.\n",
    "\n",
    "You can solve this in different ways:\n",
    "\n",
    "#### 1. `apply()` with lambda as we did\n",
    "#### 2. `np.where` – Vectorized\n",
    "#### 3. `iterrows()` – Avoid if Possible. This is like a for loop on rows of the dataframe\n",
    "\n",
    "**time.time() is used to compute the time taken to compute a block of code**\n",
    "\n",
    "`np.where` works like this and you can assign it to a column:\n",
    "```python\n",
    "np.where(df['col'] <= x, 'A', 'B')"
   ]
  },
  {
   "cell_type": "markdown",
   "id": "7da2a7b3-f784-473c-99e4-6ae5f8e650bf",
   "metadata": {},
   "source": [
    "`iterrows()` loops over a DataFrame row by row, returning each row as a (index, Series) pair.\n",
    "\n",
    "Use only when absolutely necessary (e.g., complex logic that can't be vectorized) as this is very time-consuming.\n",
    "\n",
    "```python\n",
    "for index, row in df.iterrows():\n",
    "    # Access values like a dictionary\n",
    "    value = row['ColumnName']\n",
    "    # Perform operations here\n"
   ]
  },
  {
   "cell_type": "code",
   "execution_count": null,
   "id": "6653a921-9b7c-4b06-a79c-bd73d12ede11",
   "metadata": {},
   "outputs": [],
   "source": [
    "import time\n",
    "import numpy as np\n",
    "\n",
    "# 1. Vectorized with np.where\n",
    "start = time.time()\n",
    "df_311['Speed Category'] = np.where(df_311['Response Time (hrs)'] <= 6, 'Fast', 'Slow')\n",
    "print(\"np.where time:\", round(time.time() - start, 4), \"seconds\")\n",
    "\n",
    "# 2. apply() with lambda\n",
    "start = time.time()\n",
    "df_311['Speed Category'] = df_311['Response Time (hrs)'].apply(lambda x: 'Fast' if x <= 6 else 'Slow')\n",
    "print(\"apply() time:\", round(time.time() - start, 4), \"seconds\")\n",
    "\n",
    "# 3. iterrows()\n",
    "start = time.time()\n",
    "speed_labels = []\n",
    "for _, row in df_311.iterrows():\n",
    "    speed_labels.append('Fast' if row['Response Time (hrs)'] <= 6 else 'Slow')\n",
    "df_311['Speed Category'] = speed_labels\n",
    "print(\"iterrows() time:\", round(time.time() - start, 4), \"seconds\")"
   ]
  },
  {
   "cell_type": "markdown",
   "id": "a3a0e14e-e354-44bb-8141-e72b241f14fb",
   "metadata": {},
   "source": [
    "### A randomly generated DataFrame\n",
    "to show the difference of vectorized operations better"
   ]
  },
  {
   "cell_type": "code",
   "execution_count": null,
   "id": "0a9d384b-3af1-47a0-bb4e-6031a8b6912e",
   "metadata": {},
   "outputs": [],
   "source": [
    "import pandas as pd\n",
    "import numpy as np\n",
    "import time\n",
    "\n",
    "# Create a large DataFrame\n",
    "df_test = pd.DataFrame({'value': np.arange(1000000)})\n",
    "\n",
    "# 1. Vectorized\n",
    "start = time.time()\n",
    "df_test['squared_vec'] = df_test['value'] ** 2\n",
    "print(\"Vectorized time:\", round(time.time() - start, 4), \"seconds\")\n",
    "\n",
    "# 2. apply() with lambda\n",
    "start = time.time()\n",
    "df_test['squared_apply'] = df_test['value'].apply(lambda x: x ** 2)\n",
    "print(\"apply() time:\", round(time.time() - start, 4), \"seconds\")\n",
    "\n",
    "# 3. iterrows()\n",
    "start = time.time()\n",
    "squared = []\n",
    "for _, row in df_test.iterrows():\n",
    "    squared.append(row['value'] ** 2)\n",
    "df_test['squared_iterrows'] = squared\n",
    "print(\"iterrows() time:\", round(time.time() - start, 4), \"seconds\")\n"
   ]
  },
  {
   "cell_type": "code",
   "execution_count": null,
   "id": "6e16a8d2-6166-4c2c-bd17-e452b70f0b34",
   "metadata": {},
   "outputs": [],
   "source": []
  }
 ],
 "metadata": {
  "kernelspec": {
   "display_name": "Python (3.11)",
   "language": "python",
   "name": "new_python3"
  },
  "language_info": {
   "codemirror_mode": {
    "name": "ipython",
    "version": 3
   },
   "file_extension": ".py",
   "mimetype": "text/x-python",
   "name": "python",
   "nbconvert_exporter": "python",
   "pygments_lexer": "ipython3",
   "version": "3.11.8"
  }
 },
 "nbformat": 4,
 "nbformat_minor": 5
}
