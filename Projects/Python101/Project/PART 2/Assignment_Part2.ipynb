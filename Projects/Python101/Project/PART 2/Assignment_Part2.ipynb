{
 "cells": [
  {
   "cell_type": "markdown",
   "id": "4aee7ef7",
   "metadata": {},
   "source": [
    "# ⚠️ **Important Disclaimer**\n",
    "\n",
    "Do **not edit or delete** any of the **Markdown cells** (the ones containing the questions and instructions).\n",
    "\n",
    "Only write your answers in the **code cells provided below each question**.  \n",
    "This ensures consistency during our feedback process."
   ]
  },
  {
   "cell_type": "markdown",
   "id": "8af053ec",
   "metadata": {},
   "source": [
    "### Q1. Load and Explore the Dataset\n",
    "\n",
    "Load the `AirQalityDataset.csv` file into a pandas DataFrame using the correct separator.\n",
    "\n",
    "After loading the data:\n",
    "\n",
    "1. Display basic information about the dataset.\n",
    "2. Save the statistical description of the dataset into a separate variable.\n",
    "3. Drop fully empty/unnamed columns, and rows\n",
    "4. Use `type()` to print the type of that description variable."
   ]
  },
  {
   "cell_type": "code",
   "execution_count": 1,
   "id": "40dd38f3",
   "metadata": {},
   "outputs": [
    {
     "name": "stdout",
     "output_type": "stream",
     "text": [
      "         Date      Time  CO(GT)  PT08.S1(CO)  NMHC(GT)  C6H6(GT)  \\\n",
      "0  10/03/2004  18.00.00     2.6       1360.0     150.0      11.9   \n",
      "1  10/03/2004  19.00.00     2.0       1292.0     112.0       9.4   \n",
      "2  10/03/2004  20.00.00     2.2       1402.0      88.0       9.0   \n",
      "3  10/03/2004  21.00.00     2.2       1376.0      80.0       9.2   \n",
      "4  10/03/2004  22.00.00     1.6       1272.0      51.0       6.5   \n",
      "\n",
      "   PT08.S2(NMHC)  NOx(GT)  PT08.S3(NOx)  NO2(GT)  PT08.S4(NO2)  PT08.S5(O3)  \\\n",
      "0         1046.0    166.0        1056.0    113.0        1692.0       1268.0   \n",
      "1          955.0    103.0        1174.0     92.0        1559.0        972.0   \n",
      "2          939.0    131.0        1140.0    114.0        1555.0       1074.0   \n",
      "3          948.0    172.0        1092.0    122.0        1584.0       1203.0   \n",
      "4          836.0    131.0        1205.0    116.0        1490.0       1110.0   \n",
      "\n",
      "      T    RH      AH  Unnamed: 15  Unnamed: 16  \n",
      "0  13.6  48.9  0.7578          NaN          NaN  \n",
      "1  13.3  47.7  0.7255          NaN          NaN  \n",
      "2  11.9  54.0  0.7502          NaN          NaN  \n",
      "3  11.0  60.0  0.7867          NaN          NaN  \n",
      "4  11.2  59.6  0.7888          NaN          NaN  \n",
      "<class 'pandas.core.frame.DataFrame'>\n",
      "RangeIndex: 9471 entries, 0 to 9470\n",
      "Data columns (total 17 columns):\n",
      " #   Column         Non-Null Count  Dtype  \n",
      "---  ------         --------------  -----  \n",
      " 0   Date           9357 non-null   object \n",
      " 1   Time           9357 non-null   object \n",
      " 2   CO(GT)         9357 non-null   float64\n",
      " 3   PT08.S1(CO)    9357 non-null   float64\n",
      " 4   NMHC(GT)       9357 non-null   float64\n",
      " 5   C6H6(GT)       9357 non-null   float64\n",
      " 6   PT08.S2(NMHC)  9357 non-null   float64\n",
      " 7   NOx(GT)        9357 non-null   float64\n",
      " 8   PT08.S3(NOx)   9357 non-null   float64\n",
      " 9   NO2(GT)        9357 non-null   float64\n",
      " 10  PT08.S4(NO2)   9357 non-null   float64\n",
      " 11  PT08.S5(O3)    9357 non-null   float64\n",
      " 12  T              9357 non-null   float64\n",
      " 13  RH             9357 non-null   float64\n",
      " 14  AH             9357 non-null   float64\n",
      " 15  Unnamed: 15    0 non-null      float64\n",
      " 16  Unnamed: 16    0 non-null      float64\n",
      "dtypes: float64(15), object(2)\n",
      "memory usage: 1.2+ MB\n",
      "            CO(GT)  PT08.S1(CO)     NMHC(GT)     C6H6(GT)  PT08.S2(NMHC)  \\\n",
      "count  9357.000000  9357.000000  9357.000000  9357.000000    9357.000000   \n",
      "mean    -34.207524  1048.990061  -159.090093     1.865683     894.595276   \n",
      "std      77.657170   329.832710   139.789093    41.380206     342.333252   \n",
      "min    -200.000000  -200.000000  -200.000000  -200.000000    -200.000000   \n",
      "25%       0.600000   921.000000  -200.000000     4.000000     711.000000   \n",
      "50%       1.500000  1053.000000  -200.000000     7.900000     895.000000   \n",
      "75%       2.600000  1221.000000  -200.000000    13.600000    1105.000000   \n",
      "max      11.900000  2040.000000  1189.000000    63.700000    2214.000000   \n",
      "\n",
      "           NOx(GT)  PT08.S3(NOx)      NO2(GT)  PT08.S4(NO2)  PT08.S5(O3)  \\\n",
      "count  9357.000000   9357.000000  9357.000000   9357.000000  9357.000000   \n",
      "mean    168.616971    794.990168    58.148873   1391.479641   975.072032   \n",
      "std     257.433866    321.993552   126.940455    467.210125   456.938184   \n",
      "min    -200.000000   -200.000000  -200.000000   -200.000000  -200.000000   \n",
      "25%      50.000000    637.000000    53.000000   1185.000000   700.000000   \n",
      "50%     141.000000    794.000000    96.000000   1446.000000   942.000000   \n",
      "75%     284.000000    960.000000   133.000000   1662.000000  1255.000000   \n",
      "max    1479.000000   2683.000000   340.000000   2775.000000  2523.000000   \n",
      "\n",
      "                 T           RH           AH  Unnamed: 15  Unnamed: 16  \n",
      "count  9357.000000  9357.000000  9357.000000          0.0          0.0  \n",
      "mean      9.778305    39.485380    -6.837604          NaN          NaN  \n",
      "std      43.203623    51.216145    38.976670          NaN          NaN  \n",
      "min    -200.000000  -200.000000  -200.000000          NaN          NaN  \n",
      "25%      10.900000    34.100000     0.692300          NaN          NaN  \n",
      "50%      17.200000    48.600000     0.976800          NaN          NaN  \n",
      "75%      24.100000    61.900000     1.296200          NaN          NaN  \n",
      "max      44.600000    88.700000     2.231000          NaN          NaN  \n",
      "<class 'pandas.core.frame.DataFrame'>\n"
     ]
    }
   ],
   "source": [
    "# Loading Air Quality data\n",
    "import pandas as pd\n",
    "air_df = pd.read_csv('AirQualityDataset.csv', delimiter = ';')\n",
    "print(air_df.head())\n",
    "\n",
    "# basic info\n",
    "air_df.info()\n",
    "\n",
    "#stats\n",
    "air_df_stats = air_df.describe()\n",
    "print(air_df_stats)\n",
    "\n",
    "# Min values indicate invalid entries, but will be dealt with as needed to avoid conflits with current and future instructions\n",
    "# Coluns like NMHC indicate bigger problems with data\n",
    "\n",
    "\n",
    "# drop fully empty rows and columns\n",
    "air_df = air_df.dropna(how='all', axis=0)\n",
    "air_df = air_df.dropna(how='all', axis=1)\n",
    "\n",
    "#Print Type\n",
    "print(type(air_df_stats))"
   ]
  },
  {
   "cell_type": "markdown",
   "id": "1418f2ab",
   "metadata": {},
   "source": [
    "### Q2. Dataset structure and features overview  \n",
    "Write a code to collect:\n",
    "1. The number of rows and columns in the dataset.\n",
    "2. The list of first 10 feature columns excluding `'Date'` and `'Time'`.  \n",
    "\n",
    "Store both lists in tuple called `dataset_info` and print it."
   ]
  },
  {
   "cell_type": "code",
   "execution_count": 2,
   "id": "c9f8025b",
   "metadata": {},
   "outputs": [
    {
     "name": "stdout",
     "output_type": "stream",
     "text": [
      "([9357, 15], ['CO(GT)', 'PT08.S1(CO)', 'NMHC(GT)', 'C6H6(GT)', 'PT08.S2(NMHC)', 'NOx(GT)', 'PT08.S3(NOx)', 'NO2(GT)', 'PT08.S4(NO2)', 'PT08.S5(O3)'])\n"
     ]
    }
   ],
   "source": [
    "# your Code Here\n",
    "air_df_shape = list(air_df.shape)\n",
    "\n",
    "# The list of first 10 feature columns excluding Date' and Time'\n",
    "feature_columns = air_df.columns[2:12].tolist()\n",
    "\n",
    "# Store both in a tuple\n",
    "dataset_info = (air_df_shape,feature_columns)\n",
    "print(dataset_info)"
   ]
  },
  {
   "cell_type": "markdown",
   "id": "052b0773",
   "metadata": {},
   "source": [
    "### Q3. CO(GT) summary with Pandas and NumPy\n",
    "Compute the **mean** and **standard deviation** of `CO(GT)` using both:\n",
    "- Pandas\n",
    "- NumPy"
   ]
  },
  {
   "cell_type": "code",
   "execution_count": 3,
   "id": "e5bfd6e3",
   "metadata": {},
   "outputs": [
    {
     "name": "stdout",
     "output_type": "stream",
     "text": [
      "Computing mean and standard deviation with Pandas and Numpy, the results were: \n",
      "    Mean with Pandas:, -34.207523778989\n",
      "    Std with Pandas:, 77.65717034682939\n",
      " \n",
      "    Mean with NumPy:, -34.207523778989\n",
      "    Std with NumPy:, 77.65302055280891 \n"
     ]
    }
   ],
   "source": [
    "# computing with pandas\n",
    "pd_df_cogt_mean = air_df['CO(GT)'].mean()\n",
    "pd_df_cogt_std = air_df['CO(GT)'].std()\n",
    "\n",
    "\n",
    "# computing with numpy\n",
    "import numpy as np\n",
    "np_df_cogt_std = np.std(air_df['CO(GT)'])\n",
    "np_df_cogt_mean = np.mean(air_df['CO(GT)'])\n",
    "\n",
    "print(f\"\"\"Computing mean and standard deviation with Pandas and Numpy, the results were: \n",
    "    Mean with Pandas:, {pd_df_cogt_mean}\n",
    "    Std with Pandas:, {pd_df_cogt_std}\n",
    " \n",
    "    Mean with NumPy:, {np_df_cogt_mean}\n",
    "    Std with NumPy:, {np_df_cogt_std} \"\"\"\n",
    "    )\n",
    "\n"
   ]
  },
  {
   "cell_type": "markdown",
   "id": "2c7d4c36",
   "metadata": {},
   "source": [
    "### Q4. Absolute humidity (AH) distribution  \n",
    "Compute the **min**, **median**, and **max** of `AH` using Pandas.  \n",
    "\n",
    "Do you notice an issue in the values?  \n",
    "If you think that there are values that are problematic, replace them with the median of the column and print the same three statistics after that.\n"
   ]
  },
  {
   "cell_type": "code",
   "execution_count": null,
   "id": "280ac8bb",
   "metadata": {},
   "outputs": [
    {
     "name": "stdout",
     "output_type": "stream",
     "text": [
      " Initial \n",
      "      Min: 0.1847, Median: 0.9768, Max: 2.231\n",
      " After replacement \n",
      "      Min: 0.1847, Median: 0.9768, Max: 2.231\n"
     ]
    },
    {
     "data": {
      "image/png": "[encoded data removed]",
      "text/plain": [
       "<Figure size 640x480 with 1 Axes>"
      ]
     },
     "metadata": {},
     "output_type": "display_data"
    }
   ],
   "source": [
    "# min max and median of 'AH'\n",
    "min_ah = air_df['AH'].min()\n",
    "median_ah = air_df['AH'].median()\n",
    "max_ah = air_df['AH'].max()\n",
    "\n",
    "print(f\"\"\" Initial \n",
    "      Min: {min_ah}, Median: {median_ah}, Max: {max_ah}\"\"\")\n",
    "\n",
    "# plot histogram to visualize distribution\n",
    "air_df['AH'].plot.hist()\n",
    "\n"
   ]
  },
  {
   "cell_type": "code",
   "execution_count": 4,
   "id": "86cbda9e",
   "metadata": {},
   "outputs": [
    {
     "name": "stdout",
     "output_type": "stream",
     "text": [
      " After replacement \n",
      "      Min: 0.1847, Median: 0.9768, Max: 2.231\n"
     ]
    },
    {
     "data": {
      "text/plain": [
       "<Axes: ylabel='Frequency'>"
      ]
     },
     "execution_count": 4,
     "metadata": {},
     "output_type": "execute_result"
    },
    {
     "data": {
      "image/png": "[encoded data removed]",
      "text/plain": [
       "<Figure size 640x480 with 1 Axes>"
      ]
     },
     "metadata": {},
     "output_type": "display_data"
    }
   ],
   "source": [
    "# replace invalid entries and check again\n",
    "air_df.loc[air_df['AH'] < -175, 'AH'] = 0.976800\n",
    "\n",
    "min_ah = air_df['AH'].min()\n",
    "median_ah = air_df['AH'].median()\n",
    "max_ah = air_df['AH'].max()\n",
    "\n",
    "print(f\"\"\" After replacement \n",
    "      Min: {min_ah}, Median: {median_ah}, Max: {max_ah}\"\"\")\n",
    "\n",
    "air_df['AH'].plot.hist()"
   ]
  },
  {
   "cell_type": "code",
   "execution_count": 7,
   "id": "dcd639a7",
   "metadata": {},
   "outputs": [
    {
     "data": {
      "text/html": [
       "<div>\n",
       "<style scoped>\n",
       "    .dataframe tbody tr th:only-of-type {\n",
       "        vertical-align: middle;\n",
       "    }\n",
       "\n",
       "    .dataframe tbody tr th {\n",
       "        vertical-align: top;\n",
       "    }\n",
       "\n",
       "    .dataframe thead th {\n",
       "        text-align: right;\n",
       "    }\n",
       "</style>\n",
       "<table border=\"1\" class=\"dataframe\">\n",
       "  <thead>\n",
       "    <tr style=\"text-align: right;\">\n",
       "      <th></th>\n",
       "      <th>T</th>\n",
       "      <th>RH</th>\n",
       "    </tr>\n",
       "  </thead>\n",
       "  <tbody>\n",
       "    <tr>\n",
       "      <th>count</th>\n",
       "      <td>9357.000000</td>\n",
       "      <td>9357.000000</td>\n",
       "    </tr>\n",
       "    <tr>\n",
       "      <th>mean</th>\n",
       "      <td>9.778305</td>\n",
       "      <td>39.485380</td>\n",
       "    </tr>\n",
       "    <tr>\n",
       "      <th>std</th>\n",
       "      <td>43.203623</td>\n",
       "      <td>51.216145</td>\n",
       "    </tr>\n",
       "    <tr>\n",
       "      <th>min</th>\n",
       "      <td>-200.000000</td>\n",
       "      <td>-200.000000</td>\n",
       "    </tr>\n",
       "    <tr>\n",
       "      <th>25%</th>\n",
       "      <td>10.900000</td>\n",
       "      <td>34.100000</td>\n",
       "    </tr>\n",
       "    <tr>\n",
       "      <th>50%</th>\n",
       "      <td>17.200000</td>\n",
       "      <td>48.600000</td>\n",
       "    </tr>\n",
       "    <tr>\n",
       "      <th>75%</th>\n",
       "      <td>24.100000</td>\n",
       "      <td>61.900000</td>\n",
       "    </tr>\n",
       "    <tr>\n",
       "      <th>max</th>\n",
       "      <td>44.600000</td>\n",
       "      <td>88.700000</td>\n",
       "    </tr>\n",
       "  </tbody>\n",
       "</table>\n",
       "</div>"
      ],
      "text/plain": [
       "                 T           RH\n",
       "count  9357.000000  9357.000000\n",
       "mean      9.778305    39.485380\n",
       "std      43.203623    51.216145\n",
       "min    -200.000000  -200.000000\n",
       "25%      10.900000    34.100000\n",
       "50%      17.200000    48.600000\n",
       "75%      24.100000    61.900000\n",
       "max      44.600000    88.700000"
      ]
     },
     "execution_count": 7,
     "metadata": {},
     "output_type": "execute_result"
    },
    {
     "data": {
      "image/png": "[encoded data removed]",
      "text/plain": [
       "<Figure size 640x480 with 1 Axes>"
      ]
     },
     "metadata": {},
     "output_type": "display_data"
    }
   ],
   "source": [
    "# I cleaned both T and RH here before proceeding to next questions because they would be affected\n",
    "\n",
    "air_df['T'].plot.hist(alpha= 0.5)\n",
    "air_df['RH'].plot.hist(alpha= 0.5)\n",
    "\n",
    "air_df[['T','RH']].describe()"
   ]
  },
  {
   "cell_type": "code",
   "execution_count": 8,
   "id": "7d643e11",
   "metadata": {},
   "outputs": [
    {
     "data": {
      "text/html": [
       "<div>\n",
       "<style scoped>\n",
       "    .dataframe tbody tr th:only-of-type {\n",
       "        vertical-align: middle;\n",
       "    }\n",
       "\n",
       "    .dataframe tbody tr th {\n",
       "        vertical-align: top;\n",
       "    }\n",
       "\n",
       "    .dataframe thead th {\n",
       "        text-align: right;\n",
       "    }\n",
       "</style>\n",
       "<table border=\"1\" class=\"dataframe\">\n",
       "  <thead>\n",
       "    <tr style=\"text-align: right;\">\n",
       "      <th></th>\n",
       "      <th>T</th>\n",
       "      <th>RH</th>\n",
       "    </tr>\n",
       "  </thead>\n",
       "  <tbody>\n",
       "    <tr>\n",
       "      <th>count</th>\n",
       "      <td>9357.000000</td>\n",
       "      <td>9357.000000</td>\n",
       "    </tr>\n",
       "    <tr>\n",
       "      <th>mean</th>\n",
       "      <td>18.274105</td>\n",
       "      <td>49.209394</td>\n",
       "    </tr>\n",
       "    <tr>\n",
       "      <th>std</th>\n",
       "      <td>8.660352</td>\n",
       "      <td>16.975247</td>\n",
       "    </tr>\n",
       "    <tr>\n",
       "      <th>min</th>\n",
       "      <td>-1.900000</td>\n",
       "      <td>9.200000</td>\n",
       "    </tr>\n",
       "    <tr>\n",
       "      <th>25%</th>\n",
       "      <td>12.000000</td>\n",
       "      <td>36.600000</td>\n",
       "    </tr>\n",
       "    <tr>\n",
       "      <th>50%</th>\n",
       "      <td>17.200000</td>\n",
       "      <td>48.600000</td>\n",
       "    </tr>\n",
       "    <tr>\n",
       "      <th>75%</th>\n",
       "      <td>24.100000</td>\n",
       "      <td>61.900000</td>\n",
       "    </tr>\n",
       "    <tr>\n",
       "      <th>max</th>\n",
       "      <td>44.600000</td>\n",
       "      <td>88.700000</td>\n",
       "    </tr>\n",
       "  </tbody>\n",
       "</table>\n",
       "</div>"
      ],
      "text/plain": [
       "                 T           RH\n",
       "count  9357.000000  9357.000000\n",
       "mean     18.274105    49.209394\n",
       "std       8.660352    16.975247\n",
       "min      -1.900000     9.200000\n",
       "25%      12.000000    36.600000\n",
       "50%      17.200000    48.600000\n",
       "75%      24.100000    61.900000\n",
       "max      44.600000    88.700000"
      ]
     },
     "execution_count": 8,
     "metadata": {},
     "output_type": "execute_result"
    },
    {
     "data": {
      "image/png": "[encoded data removed]",
      "text/plain": [
       "<Figure size 640x480 with 1 Axes>"
      ]
     },
     "metadata": {},
     "output_type": "display_data"
    }
   ],
   "source": [
    "air_df.loc[air_df['T'] < -150, 'T'] = 17.200000\n",
    "air_df.loc[air_df['RH'] < -150, 'RH'] = 48.600000\n",
    "\n",
    "air_df['T'].plot.hist(alpha= 0.5)\n",
    "air_df['RH'].plot.hist(alpha= 0.5)\n",
    "air_df[['T','RH']].describe()"
   ]
  },
  {
   "cell_type": "markdown",
   "id": "69f159ef",
   "metadata": {},
   "source": [
    "### Q5. Humidity bands\n",
    "Create a new column `humidity_band` using `RH`:\n",
    "- `'dry'` if `RH < 30`\n",
    "- `'comfortable'` if `30 <= RH <= 60`\n",
    "- `'humid'` if `RH > 60`\n",
    "\n",
    "Then show the **count** of each category."
   ]
  },
  {
   "cell_type": "code",
   "execution_count": 6,
   "id": "d9930643",
   "metadata": {},
   "outputs": [
    {
     "name": "stdout",
     "output_type": "stream",
     "text": [
      "        RH humidity_band\n",
      "0     48.9   comfortable\n",
      "1     47.7   comfortable\n",
      "2     54.0   comfortable\n",
      "3     60.0   comfortable\n",
      "4     59.6   comfortable\n",
      "...    ...           ...\n",
      "9352  29.3           dry\n",
      "9353  23.7           dry\n",
      "9354  18.3           dry\n",
      "9355  13.5           dry\n",
      "9356  13.1           dry\n",
      "\n",
      "[9357 rows x 2 columns]\n"
     ]
    },
    {
     "data": {
      "text/plain": [
       "humidity_band\n",
       "comfortable    4917\n",
       "humid          2633\n",
       "dry            1807\n",
       "Name: count, dtype: int64"
      ]
     },
     "execution_count": 6,
     "metadata": {},
     "output_type": "execute_result"
    }
   ],
   "source": [
    "# your Code Here\n",
    "# Define bins and labels\n",
    "rh_bins = [-float('inf'), 30, 60, float('inf')]\n",
    "rh_labels = ['dry', 'comfortable', 'humid']\n",
    "\n",
    "# Create the new column\n",
    "air_df['humidity_band'] = pd.cut(air_df['RH'], bins = rh_bins, labels = rh_labels)\n",
    "\n",
    "print(air_df[['RH','humidity_band']])\n",
    "\n",
    "# Show total count for each category \n",
    "air_df['humidity_band'].value_counts()"
   ]
  },
  {
   "cell_type": "markdown",
   "id": "c67a14f4",
   "metadata": {},
   "source": [
    "### Q6. Compute the Average 'CO(GT)' for Humid Conditions  \n",
    "\n",
    "Using the `'humidity_band'` column created above, filter the dataset for rows labeled `'humid'` and compute the **average value of `'CO(GT)'`** for these observations.  \n",
    "\n",
    "Format the output to 4 decimal places for better readability and precision."
   ]
  },
  {
   "cell_type": "code",
   "execution_count": 11,
   "id": "0dc48585",
   "metadata": {},
   "outputs": [
    {
     "name": "stdout",
     "output_type": "stream",
     "text": [
      "Average CO(GT) when 'humid' is: -35.5567\n"
     ]
    }
   ],
   "source": [
    "# Average COgt when 'humid'\n",
    "avg_cogt_when_humid = air_df[air_df['humidity_band'] == 'humid']['CO(GT)'].mean()\n",
    "\n",
    "print(f\"Average CO(GT) when 'humid' is: {round(avg_cogt_when_humid,4)}\")"
   ]
  },
  {
   "cell_type": "markdown",
   "id": "a2689ab4",
   "metadata": {},
   "source": [
    "### Q7. Retrieve and sort array by a specific column\n",
    "Create a NumPy array from the columns `[T, RH, AH]` (in this order), then sort the array by the **third column (`AH`)** ascending. Show the first 5 rows."
   ]
  },
  {
   "cell_type": "code",
   "execution_count": 7,
   "id": "61869dab",
   "metadata": {},
   "outputs": [
    {
     "name": "stdout",
     "output_type": "stream",
     "text": [
      "[[ 0.     29.7     0.1847]\n",
      " [11.8    13.5     0.1862]\n",
      " [ 0.2    30.2     0.191 ]\n",
      " [-0.1    31.9     0.1975]\n",
      " [12.2    14.      0.1988]]\n"
     ]
    }
   ],
   "source": [
    "# creat air quality array with numpy\n",
    "air_array = np.array([air_df['T'],air_df['RH'],air_df['AH']]).T\n",
    "\n",
    "# Sort the array by the third column (AH)\n",
    "air_array_sorted = air_array[air_array[:,2].argsort()]\n",
    "air_array_sorted\n",
    "\n",
    "# Show the first 5 rows\n",
    "print(air_array_sorted[:5])"
   ]
  },
  {
   "cell_type": "markdown",
   "id": "3503b1f7",
   "metadata": {},
   "source": [
    "### Q8. Normalized moisture index\n",
    "\n",
    "Using the NumPy array you built above (**Do not change it**):  \n",
    "\n",
    "1. Using Numpy, **Convert RH to a fraction** (0–1 scale) by dividing it by 100 and save it to another array `RH_frac`.\n",
    "2. Using Numpy, **Compute a normalized moisture index** by dividing `AH` by `RH_frac`. This almost computes the amount of absolute humidity per unit of relative humidity.\n",
    "\n",
    "Print the first 10 values of this new array and then **store** the result in the original DataFrame as a new column `'moisture_index'`."
   ]
  },
  {
   "cell_type": "code",
   "execution_count": 8,
   "id": "762168d8",
   "metadata": {},
   "outputs": [
    {
     "name": "stdout",
     "output_type": "stream",
     "text": [
      "[1.54969325 1.52096436 1.38925926 1.31116667 1.32348993 1.32567568\n",
      " 1.33855634 1.28366667 1.28107203 1.2486711 ]\n"
     ]
    },
    {
     "data": {
      "text/html": [
       "<div>\n",
       "<style scoped>\n",
       "    .dataframe tbody tr th:only-of-type {\n",
       "        vertical-align: middle;\n",
       "    }\n",
       "\n",
       "    .dataframe tbody tr th {\n",
       "        vertical-align: top;\n",
       "    }\n",
       "\n",
       "    .dataframe thead th {\n",
       "        text-align: right;\n",
       "    }\n",
       "</style>\n",
       "<table border=\"1\" class=\"dataframe\">\n",
       "  <thead>\n",
       "    <tr style=\"text-align: right;\">\n",
       "      <th></th>\n",
       "      <th>T</th>\n",
       "      <th>RH</th>\n",
       "      <th>AH</th>\n",
       "      <th>moisture_index</th>\n",
       "    </tr>\n",
       "  </thead>\n",
       "  <tbody>\n",
       "    <tr>\n",
       "      <th>0</th>\n",
       "      <td>13.6</td>\n",
       "      <td>48.9</td>\n",
       "      <td>0.7578</td>\n",
       "      <td>1.549693</td>\n",
       "    </tr>\n",
       "    <tr>\n",
       "      <th>1</th>\n",
       "      <td>13.3</td>\n",
       "      <td>47.7</td>\n",
       "      <td>0.7255</td>\n",
       "      <td>1.520964</td>\n",
       "    </tr>\n",
       "    <tr>\n",
       "      <th>2</th>\n",
       "      <td>11.9</td>\n",
       "      <td>54.0</td>\n",
       "      <td>0.7502</td>\n",
       "      <td>1.389259</td>\n",
       "    </tr>\n",
       "    <tr>\n",
       "      <th>3</th>\n",
       "      <td>11.0</td>\n",
       "      <td>60.0</td>\n",
       "      <td>0.7867</td>\n",
       "      <td>1.311167</td>\n",
       "    </tr>\n",
       "    <tr>\n",
       "      <th>4</th>\n",
       "      <td>11.2</td>\n",
       "      <td>59.6</td>\n",
       "      <td>0.7888</td>\n",
       "      <td>1.323490</td>\n",
       "    </tr>\n",
       "    <tr>\n",
       "      <th>...</th>\n",
       "      <td>...</td>\n",
       "      <td>...</td>\n",
       "      <td>...</td>\n",
       "      <td>...</td>\n",
       "    </tr>\n",
       "    <tr>\n",
       "      <th>9352</th>\n",
       "      <td>21.9</td>\n",
       "      <td>29.3</td>\n",
       "      <td>0.7568</td>\n",
       "      <td>2.582935</td>\n",
       "    </tr>\n",
       "    <tr>\n",
       "      <th>9353</th>\n",
       "      <td>24.3</td>\n",
       "      <td>23.7</td>\n",
       "      <td>0.7119</td>\n",
       "      <td>3.003797</td>\n",
       "    </tr>\n",
       "    <tr>\n",
       "      <th>9354</th>\n",
       "      <td>26.9</td>\n",
       "      <td>18.3</td>\n",
       "      <td>0.6406</td>\n",
       "      <td>3.500546</td>\n",
       "    </tr>\n",
       "    <tr>\n",
       "      <th>9355</th>\n",
       "      <td>28.3</td>\n",
       "      <td>13.5</td>\n",
       "      <td>0.5139</td>\n",
       "      <td>3.806667</td>\n",
       "    </tr>\n",
       "    <tr>\n",
       "      <th>9356</th>\n",
       "      <td>28.5</td>\n",
       "      <td>13.1</td>\n",
       "      <td>0.5028</td>\n",
       "      <td>3.838168</td>\n",
       "    </tr>\n",
       "  </tbody>\n",
       "</table>\n",
       "<p>9357 rows × 4 columns</p>\n",
       "</div>"
      ],
      "text/plain": [
       "         T    RH      AH  moisture_index\n",
       "0     13.6  48.9  0.7578        1.549693\n",
       "1     13.3  47.7  0.7255        1.520964\n",
       "2     11.9  54.0  0.7502        1.389259\n",
       "3     11.0  60.0  0.7867        1.311167\n",
       "4     11.2  59.6  0.7888        1.323490\n",
       "...    ...   ...     ...             ...\n",
       "9352  21.9  29.3  0.7568        2.582935\n",
       "9353  24.3  23.7  0.7119        3.003797\n",
       "9354  26.9  18.3  0.6406        3.500546\n",
       "9355  28.3  13.5  0.5139        3.806667\n",
       "9356  28.5  13.1  0.5028        3.838168\n",
       "\n",
       "[9357 rows x 4 columns]"
      ]
     },
     "execution_count": 8,
     "metadata": {},
     "output_type": "execute_result"
    }
   ],
   "source": [
    "# Convert RH (second column) to a fraction\n",
    "RH_frac = air_array[:, 1] / 100\n",
    "\n",
    "# Compute the normalized moisture index (AH / RH_frac)\n",
    "moisture_index = air_array[:, 2] / RH_frac\n",
    "\n",
    "# Show the first 5 values of the moisture index\n",
    "print(moisture_index[:10])\n",
    "\n",
    "\n",
    "# Add the result as a new column in the original Dataframe\n",
    "air_df['moisture_index'] = moisture_index\n",
    "\n",
    "air_df[['T','RH','AH','moisture_index']]\n"
   ]
  },
  {
   "cell_type": "markdown",
   "id": "a11a58f0",
   "metadata": {},
   "source": [
    "### Q9. Temperature profile for high moisture index  \n",
    "\n",
    "Using Numpy only, and the `moisture_index` values you computed earlier:  \n",
    "\n",
    "1. Find the **median** of `moisture_index`.  \n",
    "2. Filter `tri_array` to include only rows where `moisture_index` is above this median.  \n",
    "3. Compute and print the **mean temperature** for this high-moisture group using only NumPy.\n",
    "\n",
    "Format the output to 4 decimal places for better readability and precision."
   ]
  },
  {
   "cell_type": "code",
   "execution_count": 9,
   "id": "a73167aa",
   "metadata": {},
   "outputs": [
    {
     "name": "stdout",
     "output_type": "stream",
     "text": [
      "Mean temperature for the tri_array is 25.2345 .\n"
     ]
    }
   ],
   "source": [
    "# find median\n",
    "mid_moisture_index = np.median(moisture_index)\n",
    "\n",
    "# Filter air_array to include only rows where moisture_index is above the median\n",
    "high_moisture_mask = moisture_index > mid_moisture_index\n",
    "tri_array = air_array[high_moisture_mask]\n",
    "\n",
    "# Compute the mean temperature for the tri_array \n",
    "mean_temperature = np.mean(tri_array[:, 0]) # first column is T\n",
    "\n",
    "print(f\"Mean temperature for the tri_array is {round(mean_temperature,4)} .\")"
   ]
  },
  {
   "cell_type": "markdown",
   "id": "d4f85563",
   "metadata": {},
   "source": [
    "### Q10. Percentile-based filtering\n",
    "Compute:\n",
    "- the **85th percentile** of `C6H6(GT)` (benzene), and\n",
    "- the **25th percentile** of `RH`.\n",
    "\n",
    "Filter and return rows where `C6H6(GT)` is **above** its 85th percentile **and** `RH` is **below** its 25th percentile. Show the number of rows and the first 5 matches.\n"
   ]
  },
  {
   "cell_type": "code",
   "execution_count": 11,
   "id": "ec3c9f4a",
   "metadata": {},
   "outputs": [
    {
     "name": "stdout",
     "output_type": "stream",
     "text": [
      "-200.0\n"
     ]
    },
    {
     "data": {
      "text/plain": [
       "count    9357.000000\n",
       "mean        1.865683\n",
       "std        41.380206\n",
       "min      -200.000000\n",
       "25%         4.000000\n",
       "50%         7.900000\n",
       "75%        13.600000\n",
       "max        63.700000\n",
       "Name: C6H6(GT), dtype: float64"
      ]
     },
     "execution_count": 11,
     "metadata": {},
     "output_type": "execute_result"
    },
    {
     "data": {
      "image/png": "[encoded data removed]",
      "text/plain": [
       "<Figure size 640x480 with 1 Axes>"
      ]
     },
     "metadata": {},
     "output_type": "display_data"
    }
   ],
   "source": [
    "#Find 85th percentile of C6H6\n",
    "print (np.percentile(air_df['C6H6(GT)'],0.85))\n",
    "\n",
    "# Because invalid entries and highly skewing the results, i investigated more and cleaned the column\n",
    "air_df['C6H6(GT)'].plot.hist(alpha= 0.5)\n",
    "air_df['C6H6(GT)'].describe()\n"
   ]
  },
  {
   "cell_type": "code",
   "execution_count": 20,
   "id": "2a620fb3",
   "metadata": {},
   "outputs": [
    {
     "data": {
      "text/plain": [
       "count    9357.000000\n",
       "mean        9.997713\n",
       "std         7.314906\n",
       "min         0.100000\n",
       "25%         4.600000\n",
       "50%         7.900000\n",
       "75%        13.600000\n",
       "max        63.700000\n",
       "Name: C6H6(GT), dtype: float64"
      ]
     },
     "execution_count": 20,
     "metadata": {},
     "output_type": "execute_result"
    },
    {
     "data": {
      "image/png": "[encoded data removed]",
      "text/plain": [
       "<Figure size 640x480 with 1 Axes>"
      ]
     },
     "metadata": {},
     "output_type": "display_data"
    }
   ],
   "source": [
    "air_df.loc[air_df['C6H6(GT)'] < -150, 'C6H6(GT)'] = 7.900000\n",
    "air_df['C6H6(GT)'].plot.hist(alpha= 0.5)\n",
    "air_df['C6H6(GT)'].describe()"
   ]
  },
  {
   "cell_type": "code",
   "execution_count": 12,
   "id": "bca527df",
   "metadata": {},
   "outputs": [
    {
     "name": "stdout",
     "output_type": "stream",
     "text": [
      "85th percentile of C6H6: 17.3, 25th percentile of RH: 4.0\n",
      "Number of matching rows: 1393\n"
     ]
    },
    {
     "data": {
      "text/html": [
       "<div>\n",
       "<style scoped>\n",
       "    .dataframe tbody tr th:only-of-type {\n",
       "        vertical-align: middle;\n",
       "    }\n",
       "\n",
       "    .dataframe tbody tr th {\n",
       "        vertical-align: top;\n",
       "    }\n",
       "\n",
       "    .dataframe thead th {\n",
       "        text-align: right;\n",
       "    }\n",
       "</style>\n",
       "<table border=\"1\" class=\"dataframe\">\n",
       "  <thead>\n",
       "    <tr style=\"text-align: right;\">\n",
       "      <th></th>\n",
       "      <th>Date</th>\n",
       "      <th>Time</th>\n",
       "      <th>CO(GT)</th>\n",
       "      <th>PT08.S1(CO)</th>\n",
       "      <th>NMHC(GT)</th>\n",
       "      <th>C6H6(GT)</th>\n",
       "      <th>PT08.S2(NMHC)</th>\n",
       "      <th>NOx(GT)</th>\n",
       "      <th>PT08.S3(NOx)</th>\n",
       "      <th>NO2(GT)</th>\n",
       "      <th>PT08.S4(NO2)</th>\n",
       "      <th>PT08.S5(O3)</th>\n",
       "      <th>T</th>\n",
       "      <th>RH</th>\n",
       "      <th>AH</th>\n",
       "      <th>humidity_band</th>\n",
       "      <th>moisture_index</th>\n",
       "    </tr>\n",
       "  </thead>\n",
       "  <tbody>\n",
       "    <tr>\n",
       "      <th>24</th>\n",
       "      <td>11/03/2004</td>\n",
       "      <td>18.00.00</td>\n",
       "      <td>4.8</td>\n",
       "      <td>1581.0</td>\n",
       "      <td>307.0</td>\n",
       "      <td>20.8</td>\n",
       "      <td>1319.0</td>\n",
       "      <td>281.0</td>\n",
       "      <td>799.0</td>\n",
       "      <td>151.0</td>\n",
       "      <td>2083.0</td>\n",
       "      <td>1409.0</td>\n",
       "      <td>10.3</td>\n",
       "      <td>64.2</td>\n",
       "      <td>0.8065</td>\n",
       "      <td>humid</td>\n",
       "      <td>1.256231</td>\n",
       "    </tr>\n",
       "    <tr>\n",
       "      <th>25</th>\n",
       "      <td>11/03/2004</td>\n",
       "      <td>19.00.00</td>\n",
       "      <td>6.9</td>\n",
       "      <td>1776.0</td>\n",
       "      <td>461.0</td>\n",
       "      <td>27.4</td>\n",
       "      <td>1488.0</td>\n",
       "      <td>383.0</td>\n",
       "      <td>702.0</td>\n",
       "      <td>172.0</td>\n",
       "      <td>2333.0</td>\n",
       "      <td>1704.0</td>\n",
       "      <td>9.7</td>\n",
       "      <td>69.3</td>\n",
       "      <td>0.8319</td>\n",
       "      <td>humid</td>\n",
       "      <td>1.200433</td>\n",
       "    </tr>\n",
       "    <tr>\n",
       "      <th>26</th>\n",
       "      <td>11/03/2004</td>\n",
       "      <td>20.00.00</td>\n",
       "      <td>6.1</td>\n",
       "      <td>1640.0</td>\n",
       "      <td>401.0</td>\n",
       "      <td>24.0</td>\n",
       "      <td>1404.0</td>\n",
       "      <td>351.0</td>\n",
       "      <td>743.0</td>\n",
       "      <td>165.0</td>\n",
       "      <td>2191.0</td>\n",
       "      <td>1654.0</td>\n",
       "      <td>9.6</td>\n",
       "      <td>67.8</td>\n",
       "      <td>0.8133</td>\n",
       "      <td>humid</td>\n",
       "      <td>1.199558</td>\n",
       "    </tr>\n",
       "    <tr>\n",
       "      <th>38</th>\n",
       "      <td>12/03/2004</td>\n",
       "      <td>08.00.00</td>\n",
       "      <td>4.4</td>\n",
       "      <td>1587.0</td>\n",
       "      <td>202.0</td>\n",
       "      <td>17.9</td>\n",
       "      <td>1236.0</td>\n",
       "      <td>307.0</td>\n",
       "      <td>897.0</td>\n",
       "      <td>141.0</td>\n",
       "      <td>1900.0</td>\n",
       "      <td>1400.0</td>\n",
       "      <td>7.3</td>\n",
       "      <td>63.1</td>\n",
       "      <td>0.6499</td>\n",
       "      <td>humid</td>\n",
       "      <td>1.029952</td>\n",
       "    </tr>\n",
       "    <tr>\n",
       "      <th>39</th>\n",
       "      <td>12/03/2004</td>\n",
       "      <td>09.00.00</td>\n",
       "      <td>-200.0</td>\n",
       "      <td>1545.0</td>\n",
       "      <td>-200.0</td>\n",
       "      <td>22.1</td>\n",
       "      <td>1353.0</td>\n",
       "      <td>-200.0</td>\n",
       "      <td>767.0</td>\n",
       "      <td>-200.0</td>\n",
       "      <td>2058.0</td>\n",
       "      <td>1588.0</td>\n",
       "      <td>9.2</td>\n",
       "      <td>56.2</td>\n",
       "      <td>0.6561</td>\n",
       "      <td>comfortable</td>\n",
       "      <td>1.167438</td>\n",
       "    </tr>\n",
       "  </tbody>\n",
       "</table>\n",
       "</div>"
      ],
      "text/plain": [
       "          Date      Time  CO(GT)  PT08.S1(CO)  NMHC(GT)  C6H6(GT)  \\\n",
       "24  11/03/2004  18.00.00     4.8       1581.0     307.0      20.8   \n",
       "25  11/03/2004  19.00.00     6.9       1776.0     461.0      27.4   \n",
       "26  11/03/2004  20.00.00     6.1       1640.0     401.0      24.0   \n",
       "38  12/03/2004  08.00.00     4.4       1587.0     202.0      17.9   \n",
       "39  12/03/2004  09.00.00  -200.0       1545.0    -200.0      22.1   \n",
       "\n",
       "    PT08.S2(NMHC)  NOx(GT)  PT08.S3(NOx)  NO2(GT)  PT08.S4(NO2)  PT08.S5(O3)  \\\n",
       "24         1319.0    281.0         799.0    151.0        2083.0       1409.0   \n",
       "25         1488.0    383.0         702.0    172.0        2333.0       1704.0   \n",
       "26         1404.0    351.0         743.0    165.0        2191.0       1654.0   \n",
       "38         1236.0    307.0         897.0    141.0        1900.0       1400.0   \n",
       "39         1353.0   -200.0         767.0   -200.0        2058.0       1588.0   \n",
       "\n",
       "       T    RH      AH humidity_band  moisture_index  \n",
       "24  10.3  64.2  0.8065         humid        1.256231  \n",
       "25   9.7  69.3  0.8319         humid        1.200433  \n",
       "26   9.6  67.8  0.8133         humid        1.199558  \n",
       "38   7.3  63.1  0.6499         humid        1.029952  \n",
       "39   9.2  56.2  0.6561   comfortable        1.167438  "
      ]
     },
     "execution_count": 12,
     "metadata": {},
     "output_type": "execute_result"
    }
   ],
   "source": [
    "#Find 85th percentile of C6H6\n",
    "c6h6gt_85th = np.percentile(air_df['C6H6(GT)'],85)\n",
    "\n",
    "#Find 25th percentile of RH\n",
    "rh_25th = np.percentile(air_df['C6H6(GT)'],25)\n",
    "\n",
    "print(f\"85th percentile of C6H6: {c6h6gt_85th}, 25th percentile of RH: {rh_25th}\")\n",
    "\n",
    "# Filter dataframe \n",
    "filtered_air_df = air_df[(air_df['C6H6(GT)'] > c6h6gt_85th) & (air_df['RH'] > rh_25th)]\n",
    "\n",
    "# Show the number of rows and the first 5 matches\n",
    "print(f\"Number of matching rows: {len(filtered_air_df)}\")\n",
    "filtered_air_df.head()"
   ]
  },
  {
   "cell_type": "markdown",
   "id": "bc3593d0",
   "metadata": {},
   "source": [
    "### Q11. Simulate Sensor Measurement Noise and Analyze the Effect  \n",
    "\n",
    "Simulate **normally distributed measurement noise** with a mean of `0` and a standard deviation of `100` (in raw sensor units). Then:  \n",
    "\n",
    "- Use **NumPy** to generate the noise.  \n",
    "- Use **Pandas** to add this noise to the `'PT08.S1(CO)'` column and store the result in a new column `'PT08.S1_noisy'`.  \n",
    "- Print the **mean** and **standard deviation** of both `'PT08.S1(CO)'` and `'PT08.S1_noisy'` to observe the impact of the simulated noise.  \n",
    "\n",
    "Observe how the added noise affects the distribution, particularly the spread (**standard deviation**). Format all printed values to **4 decimal places** using `.4f`.  \n"
   ]
  },
  {
   "cell_type": "code",
   "execution_count": 23,
   "id": "1c909f31",
   "metadata": {},
   "outputs": [
    {
     "name": "stdout",
     "output_type": "stream",
     "text": [
      "Mean of 'PT08.S1(CO)': 1048.9901\n",
      "Standard deviation of 'PT08.S1(CO)': 329.8327\n",
      "Mean of 'PT08.S1_noisy': 1046.8703\n",
      "Standard deviation of 'PT08.S1_noisy': 345.1911\n"
     ]
    }
   ],
   "source": [
    "import numpy as np\n",
    "np.random.seed(0)\n",
    "\n",
    "\n",
    "# Simulate normally distributed noise with mean=0 and std=100\n",
    "noise = np.random.normal(loc=0, scale=100, size=len(air_df))\n",
    "\n",
    "# Add the noise to the 'PT08.S1(CO)' column to create the 'PT08.S1_noisy' column\n",
    "air_df['PT08.S1_noisy'] = air_df['PT08.S1(CO)'] + noise\n",
    "\n",
    "# Calculate and print the mean and standard deviation for both columns\n",
    "mean_PT08_S1 = air_df['PT08.S1(CO)'].mean()\n",
    "std_PT08_S1 = air_df['PT08.S1(CO)'].std()\n",
    "\n",
    "mean_PT08_S1_noisy = air_df['PT08.S1_noisy'].mean()\n",
    "std_PT08_S1_noisy = air_df['PT08.S1_noisy'].std()\n",
    "\n",
    "# Print the results formatted to 4 decimal places\n",
    "print(f\"Mean of 'PT08.S1(CO)': {mean_PT08_S1:.4f}\")\n",
    "print(f\"Standard deviation of 'PT08.S1(CO)': {std_PT08_S1:.4f}\")\n",
    "print(f\"Mean of 'PT08.S1_noisy': {mean_PT08_S1_noisy:.4f}\")\n",
    "print(f\"Standard deviation of 'PT08.S1_noisy': {std_PT08_S1_noisy:.4f}\")\n"
   ]
  },
  {
   "cell_type": "markdown",
   "id": "555bf415",
   "metadata": {},
   "source": [
    "# Make Your Results Reproducible\n",
    "\n",
    "If you re-run the previous cell multiple times, you'll notice that the results involving randomness (e.g., simulated noise) change each time. This is because NumPy generates new random numbers on every execution.\n",
    "\n",
    "To make your results **reproducible** (meaning that both you and your instructor get the **same output every time**) you need to set a fixed **random seed**.\n",
    "\n",
    "As the final task, go back and add the following line to your code **immediately after importing NumPy** for the first time in your notebook:\n",
    "\n",
    "```python\n",
    "np.random.seed(0)\n"
   ]
  },
  {
   "cell_type": "markdown",
   "id": "91503921",
   "metadata": {},
   "source": [
    "So, your NumPy import at the top of the notebook should now look like this:\n",
    "\n",
    "```python\n",
    "import numpy as np\n",
    "np.random.seed(0)\n"
   ]
  },
  {
   "cell_type": "markdown",
   "id": "3273ace9",
   "metadata": {},
   "source": [
    "# After Making This Change:\n",
    "\n",
    "- Re-run **all cells** in the notebook from top to bottom.  \n",
    "- Make sure **all outputs are visible**.  \n",
    "- **Save your notebook.**  \n",
    "- **Submit it as-is (with all outputs included.)**\n"
   ]
  }
 ],
 "metadata": {
  "kernelspec": {
   "display_name": "base",
   "language": "python",
   "name": "python3"
  },
  "language_info": {
   "codemirror_mode": {
    "name": "ipython",
    "version": 3
   },
   "file_extension": ".py",
   "mimetype": "text/x-python",
   "name": "python",
   "nbconvert_exporter": "python",
   "pygments_lexer": "ipython3",
   "version": "3.12.7"
  }
 },
 "nbformat": 4,
 "nbformat_minor": 5
}
