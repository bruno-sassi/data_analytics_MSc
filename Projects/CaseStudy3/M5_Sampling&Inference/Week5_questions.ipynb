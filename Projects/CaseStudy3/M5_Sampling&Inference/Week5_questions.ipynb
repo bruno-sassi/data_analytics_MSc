{
  "cells": [
    {
      "cell_type": "markdown",
      "id": "ZLz2-yapn4tA",
      "metadata": {
        "id": "ZLz2-yapn4tA"
      },
      "source": [
        "# 📊 In-Class Exercise: Sampling & Inference for Financial Data\n",
        "\n",
        "In this exercise, you'll simulate sampling, compute confidence intervals, and perform hypothesis testing using Python. The dataset simulates daily returns for a financial index."
      ]
    },
    {
      "cell_type": "code",
      "execution_count": 1,
      "id": "kfYZZc23n4tC",
      "metadata": {
        "id": "kfYZZc23n4tC"
      },
      "outputs": [],
      "source": [
        "import numpy as np\n",
        "import matplotlib.pyplot as plt\n",
        "import pandas as pd\n",
        "from scipy.stats import norm"
      ]
    },
    {
      "cell_type": "code",
      "execution_count": 3,
      "id": "d510b208",
      "metadata": {},
      "outputs": [
        {
          "data": {
            "text/html": [
              "<div>\n",
              "<style scoped>\n",
              "    .dataframe tbody tr th:only-of-type {\n",
              "        vertical-align: middle;\n",
              "    }\n",
              "\n",
              "    .dataframe tbody tr th {\n",
              "        vertical-align: top;\n",
              "    }\n",
              "\n",
              "    .dataframe thead th {\n",
              "        text-align: right;\n",
              "    }\n",
              "</style>\n",
              "<table border=\"1\" class=\"dataframe\">\n",
              "  <thead>\n",
              "    <tr style=\"text-align: right;\">\n",
              "      <th></th>\n",
              "      <th>Return</th>\n",
              "    </tr>\n",
              "  </thead>\n",
              "  <tbody>\n",
              "    <tr>\n",
              "      <th>0</th>\n",
              "      <td>0.059934</td>\n",
              "    </tr>\n",
              "    <tr>\n",
              "      <th>1</th>\n",
              "      <td>0.047235</td>\n",
              "    </tr>\n",
              "    <tr>\n",
              "      <th>2</th>\n",
              "      <td>0.062954</td>\n",
              "    </tr>\n",
              "    <tr>\n",
              "      <th>3</th>\n",
              "      <td>0.080461</td>\n",
              "    </tr>\n",
              "    <tr>\n",
              "      <th>4</th>\n",
              "      <td>0.045317</td>\n",
              "    </tr>\n",
              "  </tbody>\n",
              "</table>\n",
              "</div>"
            ],
            "text/plain": [
              "     Return\n",
              "0  0.059934\n",
              "1  0.047235\n",
              "2  0.062954\n",
              "3  0.080461\n",
              "4  0.045317"
            ]
          },
          "execution_count": 3,
          "metadata": {},
          "output_type": "execute_result"
        }
      ],
      "source": [
        "np.random.seed(42)  # For reproducibility\n",
        "population = np.random.normal(loc=0.05, scale=0.02 , size=1000)  # Normal distribution\n",
        "df_population = pd.DataFrame({'Return':population})\n",
        "df_population.head()"
      ]
    },
    {
      "cell_type": "code",
      "execution_count": 5,
      "id": "2bb51fc8",
      "metadata": {},
      "outputs": [
        {
          "data": {
            "image/png": "[encoded data removed]",
            "text/plain": [
              "<Figure size 640x480 with 1 Axes>"
            ]
          },
          "metadata": {},
          "output_type": "display_data"
        }
      ],
      "source": [
        "plt.hist(df_population['Return'], bins=50)\n",
        "plt.show()"
      ]
    },
    {
      "cell_type": "markdown",
      "id": "AYKF9Ep8n4tD",
      "metadata": {
        "id": "AYKF9Ep8n4tD"
      },
      "source": [
        "## 🔹 Part A: Distribution of Sample Means\n",
        "**Task:** Draw 100 random samples (size=30), calculate sample means, and plot their distribution."
      ]
    },
    {
      "cell_type": "code",
      "execution_count": 8,
      "id": "59507249",
      "metadata": {},
      "outputs": [],
      "source": [
        "sample_means = []\n",
        "for i in range(1000):\n",
        "    pop_sample = df_population.sample(n=30, replace=False)\n",
        "    sample_means.append(pop_sample['Return'].mean())"
      ]
    },
    {
      "cell_type": "code",
      "execution_count": 10,
      "id": "xUfdyCUTn4tD",
      "metadata": {
        "id": "xUfdyCUTn4tD"
      },
      "outputs": [
        {
          "data": {
            "image/png": "[encoded data removed]",
            "text/plain": [
              "<Figure size 640x480 with 1 Axes>"
            ]
          },
          "metadata": {},
          "output_type": "display_data"
        }
      ],
      "source": [
        "plt.hist(sample_means, bins=20)\n",
        "plt.show()"
      ]
    },
    {
      "cell_type": "code",
      "execution_count": 7,
      "id": "03a08d1d",
      "metadata": {},
      "outputs": [
        {
          "data": {
            "text/html": [
              "<div>\n",
              "<style scoped>\n",
              "    .dataframe tbody tr th:only-of-type {\n",
              "        vertical-align: middle;\n",
              "    }\n",
              "\n",
              "    .dataframe tbody tr th {\n",
              "        vertical-align: top;\n",
              "    }\n",
              "\n",
              "    .dataframe thead th {\n",
              "        text-align: right;\n",
              "    }\n",
              "</style>\n",
              "<table border=\"1\" class=\"dataframe\">\n",
              "  <thead>\n",
              "    <tr style=\"text-align: right;\">\n",
              "      <th></th>\n",
              "      <th>Return</th>\n",
              "    </tr>\n",
              "  </thead>\n",
              "  <tbody>\n",
              "    <tr>\n",
              "      <th>521</th>\n",
              "      <td>0.060867</td>\n",
              "    </tr>\n",
              "    <tr>\n",
              "      <th>737</th>\n",
              "      <td>0.069654</td>\n",
              "    </tr>\n",
              "    <tr>\n",
              "      <th>740</th>\n",
              "      <td>0.013183</td>\n",
              "    </tr>\n",
              "    <tr>\n",
              "      <th>660</th>\n",
              "      <td>0.038527</td>\n",
              "    </tr>\n",
              "    <tr>\n",
              "      <th>411</th>\n",
              "      <td>0.027507</td>\n",
              "    </tr>\n",
              "    <tr>\n",
              "      <th>...</th>\n",
              "      <td>...</td>\n",
              "    </tr>\n",
              "    <tr>\n",
              "      <th>436</th>\n",
              "      <td>0.082572</td>\n",
              "    </tr>\n",
              "    <tr>\n",
              "      <th>764</th>\n",
              "      <td>0.072985</td>\n",
              "    </tr>\n",
              "    <tr>\n",
              "      <th>88</th>\n",
              "      <td>0.039405</td>\n",
              "    </tr>\n",
              "    <tr>\n",
              "      <th>63</th>\n",
              "      <td>0.026076</td>\n",
              "    </tr>\n",
              "    <tr>\n",
              "      <th>826</th>\n",
              "      <td>0.081591</td>\n",
              "    </tr>\n",
              "  </tbody>\n",
              "</table>\n",
              "<p>100 rows × 1 columns</p>\n",
              "</div>"
            ],
            "text/plain": [
              "       Return\n",
              "521  0.060867\n",
              "737  0.069654\n",
              "740  0.013183\n",
              "660  0.038527\n",
              "411  0.027507\n",
              "..        ...\n",
              "436  0.082572\n",
              "764  0.072985\n",
              "88   0.039405\n",
              "63   0.026076\n",
              "826  0.081591\n",
              "\n",
              "[100 rows x 1 columns]"
            ]
          },
          "execution_count": 7,
          "metadata": {},
          "output_type": "execute_result"
        }
      ],
      "source": [
        "pop_sample"
      ]
    },
    {
      "cell_type": "markdown",
      "id": "j87b11jnn4tD",
      "metadata": {
        "id": "j87b11jnn4tD"
      },
      "source": [
        "**Q: What is the shape of the histogram?**\n",
        "**Q: What does this tell you about the Central Limit Theorem?**"
      ]
    },
    {
      "cell_type": "markdown",
      "id": "G6HCf39nn4tE",
      "metadata": {
        "id": "G6HCf39nn4tE"
      },
      "source": [
        "## 🔹 Part B: Confidence Interval for the Mean\n",
        "**Task:** Take one sample (size=50), calculate the 95% confidence interval for the population mean."
      ]
    },
    {
      "cell_type": "code",
      "execution_count": 48,
      "id": "4bbb01ef",
      "metadata": {},
      "outputs": [
        {
          "data": {
            "text/plain": [
              "(0.04027858837680906, 0.04958328560622245)"
            ]
          },
          "execution_count": 48,
          "metadata": {},
          "output_type": "execute_result"
        }
      ],
      "source": [
        "conf_sample1 = df_population.sample(n=50, replace=False)\n",
        "conf_sample_mean = conf_sample1['Return'].mean()\n",
        "std = 0.02\n",
        "n = 50\n",
        "\n",
        "std_error = std / np.sqrt(n)\n",
        "z_value = norm.ppf(0.95)  # 95% confidence interval\n",
        "\n",
        "\n",
        "lower_b = conf_sample_mean - z_value * std_error\n",
        "upper_b = conf_sample_mean + z_value * std_error\n",
        "conf_interval = (lower_b, upper_b)\n",
        "conf_interval"
      ]
    },
    {
      "cell_type": "markdown",
      "id": "nR0phggxn4tE",
      "metadata": {
        "id": "nR0phggxn4tE"
      },
      "source": [
        "**Q: Does your confidence interval contain the true population mean (0.05)?**\n",
        "**Q: What happens if you increase the sample size to 200? Try it.**"
      ]
    },
    {
      "cell_type": "code",
      "execution_count": null,
      "id": "c6314c87",
      "metadata": {},
      "outputs": [
        {
          "data": {
            "text/plain": [
              "(0.04822116245068484, 0.053108047830977355)"
            ]
          },
          "execution_count": 14,
          "metadata": {},
          "output_type": "execute_result"
        }
      ],
      "source": [
        "# conf_sample = df_population.sample(n=200, replace=False)\n",
        "# conf_sample_mean = conf_sample['Return'].mean()\n",
        "# conf_sample_std = conf_sample['Return'].std()\n",
        "\n",
        "# conf_interval = norm.interval(0.95, loc=conf_sample_mean, scale=conf_sample_std/np.sqrt(200))\n",
        "# conf_interval\n",
        "\n"
      ]
    },
    {
      "cell_type": "markdown",
      "id": "6B96XxScn4tE",
      "metadata": {
        "id": "6B96XxScn4tE"
      },
      "source": [
        "## 🔹 Part C: Hypothesis Testing\n",
        "**Claim:** The mean daily return is greater than 0.04.\n",
        "\n",
        "Perform a one-sample z-test using the sample from Part B."
      ]
    },
    {
      "cell_type": "code",
      "execution_count": 50,
      "id": "T_RNRbkOn4tE",
      "metadata": {
        "id": "T_RNRbkOn4tE"
      },
      "outputs": [
        {
          "name": "stdout",
          "output_type": "stream",
          "text": [
            "Z-score: 1.7433494921521921, P-value: 0.04063629255805057\n"
          ]
        }
      ],
      "source": [
        "# Null mean <= 0.04\n",
        "# Alternative mean > 0.04\n",
        "null_mean = 0.04\n",
        "alternative_mean = 0.05\n",
        "z_score = (conf_sample_mean - null_mean) / std_error\n",
        "p_value = 1 - norm.cdf(z_score)\n",
        "print(f\"Z-score: {z_score}, P-value: {p_value}\")"
      ]
    },
    {
      "cell_type": "code",
      "execution_count": null,
      "id": "0520a85d",
      "metadata": {},
      "outputs": [],
      "source": [
        "#Null is rejected because the p-value is less than 0.05, indicating that the sample mean is significantly greater than the null hypothesis mean of 0.04."
      ]
    },
    {
      "cell_type": "markdown",
      "id": "_nz7xf2tn4tE",
      "metadata": {
        "id": "_nz7xf2tn4tE"
      },
      "source": [
        "**Q: Should you reject the null hypothesis at α = 0.05? Why or why not?**"
      ]
    },
    {
      "cell_type": "markdown",
      "id": "ukIQXIyen4tE",
      "metadata": {
        "id": "ukIQXIyen4tE"
      },
      "source": [
        "## ✅ Wrap-Up Reflection\n",
        "- What did you learn about sample size and reliability?\n",
        "- How do confidence intervals help in financial analysis?\n",
        "- What are the risks of making decisions from one sample?"
      ]
    }
  ],
  "metadata": {
    "colab": {
      "provenance": []
    },
    "kernelspec": {
      "display_name": "base",
      "language": "python",
      "name": "python3"
    },
    "language_info": {
      "codemirror_mode": {
        "name": "ipython",
        "version": 3
      },
      "file_extension": ".py",
      "mimetype": "text/x-python",
      "name": "python",
      "nbconvert_exporter": "python",
      "pygments_lexer": "ipython3",
      "version": "3.12.7"
    }
  },
  "nbformat": 4,
  "nbformat_minor": 5
}
