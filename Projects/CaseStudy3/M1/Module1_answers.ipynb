{
  "cells": [
    {
      "cell_type": "markdown",
      "id": "5ecab696",
      "metadata": {
        "id": "5ecab696"
      },
      "source": [
        "# 💻 Financial Returns – One-Hour Class Exercise (with Formulas)\n",
        "In this notebook, you'll practice calculating and comparing different types of returns: **simple return**, **compound return (CAGR)**, and **continuous return**, including the effect of **dividends**.\n",
        "\n",
        "We'll use Python to implement each calculation step-by-step, and include all formulas in proper math notation using LaTeX."
      ]
    },
    {
      "cell_type": "markdown",
      "id": "8098abd9",
      "metadata": {
        "id": "8098abd9"
      },
      "source": [
        "## 🧮 Problem 1: Interest on $1,000 Invested at 5% for 3 Years\n",
        "\n",
        "**Given:**\n",
        "- Initial Investment: $1,000\n",
        "- Annual Interest Rate: 5% (0.05)\n",
        "- Time: 3 years\n",
        "\n",
        "Solve for:\n",
        "- Simple Return\n",
        "- Future Value with Periodic (Annual) Compounding\n",
        "- Future Value with Continuous Compounding"
      ]
    },
    {
      "cell_type": "markdown",
      "id": "250be28e",
      "metadata": {
        "id": "250be28e"
      },
      "source": [
        "### 🔹 Simple Interest Formula:\n",
        "$$\n",
        "FV = PV \\times (1 + rt)\n",
        "$$\n",
        "- $PV$ = Principal (Initial Investment)\n",
        "- $r$ = Annual interest rate\n",
        "- $t$ = Number of years"
      ]
    },
    {
      "cell_type": "code",
      "execution_count": null,
      "id": "d3698d6c",
      "metadata": {
        "colab": {
          "base_uri": "https://localhost:8080/"
        },
        "id": "d3698d6c",
        "outputId": "9851e17d-a69c-4ef8-ef07-7fed7dc7f8b2"
      },
      "outputs": [
        {
          "output_type": "stream",
          "name": "stdout",
          "text": [
            "Future Value with Simple Interest: $1150.00\n",
            "Interpretation: You earn $150 interest over 3 years using simple interest.\n"
          ]
        }
      ],
      "source": [
        "# Inputs\n",
        "PV = 1000\n",
        "r = 0.05\n",
        "t = 3\n",
        "\n",
        "# Simple interest\n",
        "FV_simple = PV * (1 + r * t)\n",
        "print(f\"Future Value with Simple Interest: ${FV_simple:.2f}\")\n",
        "print(\"Interpretation: You earn $150 interest over 3 years using simple interest.\")"
      ]
    },
    {
      "cell_type": "markdown",
      "id": "e3f0e917",
      "metadata": {
        "id": "e3f0e917"
      },
      "source": [
        "### 🔹 Periodic Compounding (Annual)\n",
        "$$\n",
        "FV = PV \\times \\left(1 + \\frac{r}{n}\\right)^{nt}\n",
        "$$\n",
        "- $n$ = number of compounding periods per year (annually = 1)"
      ]
    },
    {
      "cell_type": "code",
      "execution_count": null,
      "id": "4393e4b1",
      "metadata": {
        "colab": {
          "base_uri": "https://localhost:8080/"
        },
        "id": "4393e4b1",
        "outputId": "fb14e140-bd7b-4151-9cc9-c4fc522678f8"
      },
      "outputs": [
        {
          "output_type": "stream",
          "name": "stdout",
          "text": [
            "Future Value with Annual Compounding: $1157.63\n",
            "Interpretation: Compounding annually gives you slightly more interest ($157.63) than simple interest.\n"
          ]
        }
      ],
      "source": [
        "n = 1\n",
        "FV_periodic = PV * (1 + r/n)**(n * t)\n",
        "print(f\"Future Value with Annual Compounding: ${FV_periodic:.2f}\")\n",
        "print(\"Interpretation: Compounding annually gives you slightly more interest ($157.63) than simple interest.\")"
      ]
    },
    {
      "cell_type": "markdown",
      "id": "7dbf2e07",
      "metadata": {
        "id": "7dbf2e07"
      },
      "source": [
        "### 🔹 Continuous Compounding\n",
        "$$\n",
        "FV = PV \\times e^{rt}\n",
        "$$\n",
        "Where $e \\approx 2.718$ is Euler’s number."
      ]
    },
    {
      "cell_type": "code",
      "execution_count": null,
      "id": "6f9da652",
      "metadata": {
        "colab": {
          "base_uri": "https://localhost:8080/"
        },
        "id": "6f9da652",
        "outputId": "5f260a1b-770a-45cf-9bef-8614b40337be"
      },
      "outputs": [
        {
          "output_type": "stream",
          "name": "stdout",
          "text": [
            "Future Value with Continuous Compounding: $1161.83\n",
            "Interpretation: Continuous compounding yields the highest return ($161.83) due to constant reinvestment.\n"
          ]
        }
      ],
      "source": [
        "import numpy as np\n",
        "FV_continuous = PV * np.exp(r * t)\n",
        "print(f\"Future Value with Continuous Compounding: ${FV_continuous:.2f}\")\n",
        "print(\"Interpretation: Continuous compounding yields the highest return ($161.83) due to constant reinvestment.\")"
      ]
    },
    {
      "cell_type": "markdown",
      "id": "de2f8511",
      "metadata": {
        "id": "de2f8511"
      },
      "source": [
        "### 📊 Summary of Results\n",
        "| Method                  | Future Value | Interest Earned |\n",
        "|-------------------------|--------------|------------------|\n",
        "| Simple Interest         | $1,150.00    | $150.00          |\n",
        "| Periodic (Annual)       | $1,157.63    | $157.63          |\n",
        "| Continuous Compounding  | $1,161.83    | $161.83          |\n",
        "\n",
        "**Conclusion:** The more frequently interest is compounded, the greater the return. Continuous compounding is a theoretical maximum."
      ]
    },
    {
      "cell_type": "markdown",
      "source": [
        "## 🧮 Problem 2:\n",
        "\n",
        "**Given:**\n",
        "- Initial Investment: $2,000\n",
        "\n",
        "- Final Investment: $2,640\n",
        "\n",
        "- Dividens: $50\n",
        "\n",
        "- Years invested: 4\n",
        "\n",
        "Solve for:\n",
        "- Simple Return\n",
        "- Future Value with Periodic (Annual) Compounding\n",
        "- Future Value with Continuous Compounding"
      ],
      "metadata": {
        "id": "K9n8wXCdLjB4"
      },
      "id": "K9n8wXCdLjB4"
    },
    {
      "cell_type": "markdown",
      "id": "3d6dfd10",
      "metadata": {
        "id": "3d6dfd10"
      },
      "source": [
        "## 1️⃣ Simple Return with Dividends\n",
        "### 📌 Formula:\n",
        "$$\n",
        "\\text{Simple Return} = \\frac{P_{\\text{final}} + D - P_{\\text{initial}}}{P_{\\text{initial}}}\n",
        "$$\n",
        "**Where:**\n",
        "- $P_{\\text{initial}}$ = Initial investment\n",
        "- $P_{\\text{final}}$ = Final value\n",
        "- $D$ = Total dividends received"
      ]
    },
    {
      "cell_type": "code",
      "execution_count": null,
      "id": "6159801e",
      "metadata": {
        "colab": {
          "base_uri": "https://localhost:8080/"
        },
        "id": "6159801e",
        "outputId": "b5b40b15-ce27-47d3-ed27-f776aaad7efd"
      },
      "outputs": [
        {
          "output_type": "stream",
          "name": "stdout",
          "text": [
            "Simple Return with Dividends: 0.3450 or 34.50%\n"
          ]
        }
      ],
      "source": [
        "# Inputs\n",
        "initial_value = 2000\n",
        "final_value = 2640\n",
        "dividends = 50\n",
        "\n",
        "# Simple return with dividends\n",
        "simple_return = (final_value + dividends - initial_value) / initial_value\n",
        "print(f\"Simple Return with Dividends: {simple_return:.4f} or {simple_return*100:.2f}%\")"
      ]
    },
    {
      "cell_type": "markdown",
      "id": "fee0529a",
      "metadata": {
        "id": "fee0529a"
      },
      "source": [
        "## 2️⃣ Compound Annual Growth Rate (CAGR)\n",
        "### 📌 Formula:\n",
        "$$\n",
        "\\text{CAGR} = \\left(\\frac{P_{\\text{final}} + D}{P_{\\text{initial}}}\\right)^{\\frac{1}{t}} - 1\n",
        "$$\n",
        "**Where:**\n",
        "- $t$ = Number of years"
      ]
    },
    {
      "cell_type": "code",
      "execution_count": null,
      "id": "4853c394",
      "metadata": {
        "colab": {
          "base_uri": "https://localhost:8080/"
        },
        "id": "4853c394",
        "outputId": "51a53838-4d4c-46d6-fed7-abbbd0ce24f4"
      },
      "outputs": [
        {
          "output_type": "stream",
          "name": "stdout",
          "text": [
            "CAGR: 0.0769 or 7.69% annually\n"
          ]
        }
      ],
      "source": [
        "# Years invested\n",
        "t = 4\n",
        "\n",
        "# CAGR calculation\n",
        "cagr = ((final_value + dividends) / initial_value) ** (1 / t) - 1\n",
        "print(f\"CAGR: {cagr:.4f} or {cagr*100:.2f}% annually\")"
      ]
    },
    {
      "cell_type": "markdown",
      "id": "eca58715",
      "metadata": {
        "id": "eca58715"
      },
      "source": [
        "## 3️⃣ Continuous (Log) Return\n",
        "### 📌 Formula:\n",
        "$$\n",
        "\\text{Log Return} = \\ln\\left(\\frac{P_{\\text{final}} + D}{P_{\\text{initial}}}\\right)\n",
        "$$\n",
        "### To annualize:\n",
        "$$\n",
        "\\text{Annual Log Return} = \\frac{\\text{Log Return}}{t}\n",
        "$$"
      ]
    },
    {
      "cell_type": "code",
      "execution_count": null,
      "id": "bc997d02",
      "metadata": {
        "colab": {
          "base_uri": "https://localhost:8080/"
        },
        "id": "bc997d02",
        "outputId": "2563d47a-cf62-4fed-fb24-4aed751f50f9"
      },
      "outputs": [
        {
          "output_type": "stream",
          "name": "stdout",
          "text": [
            "Total Log Return: 0.2964 or 29.64%\n",
            "Annual Log Return: 0.0741 or 7.41%\n"
          ]
        }
      ],
      "source": [
        "# Log return calculation\n",
        "log_return = np.log((final_value + dividends) / initial_value)\n",
        "annual_log_return = log_return / t\n",
        "\n",
        "print(f\"Total Log Return: {log_return:.4f} or {log_return*100:.2f}%\")\n",
        "print(f\"Annual Log Return: {annual_log_return:.4f} or {annual_log_return*100:.2f}%\")"
      ]
    }
  ],
  "metadata": {
    "kernelspec": {
      "display_name": "Python 3",
      "language": "python",
      "name": "python3"
    },
    "colab": {
      "provenance": []
    }
  },
  "nbformat": 4,
  "nbformat_minor": 5
}