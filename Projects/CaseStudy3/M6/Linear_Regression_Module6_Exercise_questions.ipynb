{
  "cells": [
    {
      "cell_type": "markdown",
      "metadata": {
        "id": "VtO2SyVANa7e"
      },
      "source": [
        "# 📘 Regression Model Exercise – Module 6\n",
        "\n",
        "This notebook is an in-class exercise to explore linear regression using Python, focusing on model building, evaluation, and diagnostics.\n",
        "\n",
        "---\n",
        "\n",
        "## 🔍 Part A: Association Exploration"
      ],
      "id": "VtO2SyVANa7e"
    },
    {
      "cell_type": "code",
      "execution_count": 22,
      "metadata": {
        "id": "EVFqPBXHNa7g"
      },
      "outputs": [],
      "source": [
        "# Import housing data and explore Association between variables\n",
        "# Try analytics and graphical tools"
      ],
      "id": "EVFqPBXHNa7g"
    },
    {
      "cell_type": "markdown",
      "metadata": {
        "id": "vUv1BAWBNa7i"
      },
      "source": [
        "**Q1: Which variables seem most linearly associated with `MEDV`?**\n",
        "\n",
        "**Q2: What does this imply for your model?**"
      ],
      "id": "vUv1BAWBNa7i"
    },
    {
      "cell_type": "markdown",
      "metadata": {
        "id": "XNRdkmR6Na7j"
      },
      "source": [
        "---\n",
        "## 🛠️ Part B: Simple Linear Regression with RM"
      ],
      "id": "XNRdkmR6Na7j"
    },
    {
      "cell_type": "code",
      "execution_count": 17,
      "metadata": {
        "id": "WahakXV-Na7k"
      },
      "outputs": [],
      "source": [],
      "id": "WahakXV-Na7k"
    },
    {
      "cell_type": "markdown",
      "metadata": {
        "id": "XdzldcjrNa7k"
      },
      "source": [
        "**Q1: What do the slope and intercept tell us?**\n",
        "\n",
        "**Q2: How strong is the model fit based on R-squared and p-values?**"
      ],
      "id": "XdzldcjrNa7k"
    },
    {
      "cell_type": "markdown",
      "metadata": {
        "id": "D-cMvhCENa7l"
      },
      "source": [
        "---\n",
        "## ✅ Part C: Assumption Diagnostics"
      ],
      "id": "D-cMvhCENa7l"
    },
    {
      "cell_type": "code",
      "execution_count": 21,
      "metadata": {
        "id": "M0wDXTy0Na7l"
      },
      "outputs": [],
      "source": [
        "# Independence Assumption Check\n"
      ],
      "id": "M0wDXTy0Na7l"
    },
    {
      "cell_type": "code",
      "execution_count": 19,
      "metadata": {
        "id": "pLiSCEiONa7m"
      },
      "outputs": [],
      "source": [
        "# Normality Assumption Check\n"
      ],
      "id": "pLiSCEiONa7m"
    },
    {
      "cell_type": "code",
      "execution_count": 20,
      "metadata": {
        "id": "wZwh-wmPNa7n"
      },
      "outputs": [],
      "source": [
        "# Homoscedasticity Assumption Check (Constant Variance of Errors)"
      ],
      "id": "wZwh-wmPNa7n"
    },
    {
      "cell_type": "markdown",
      "metadata": {
        "id": "o4C4EwDSNa7n"
      },
      "source": [
        "**Q1: Do the assumptions seem valid?**\n",
        "\n",
        "\n",
        "**Q2: If not, which assumptions are violated and how might you address them?**"
      ],
      "id": "o4C4EwDSNa7n"
    },
    {
      "cell_type": "markdown",
      "metadata": {
        "id": "vPKQY29vNa7o"
      },
      "source": [
        "---\n",
        "## ✅ Part D: Multiple Linear Regression"
      ],
      "id": "vPKQY29vNa7o"
    },
    {
      "cell_type": "code",
      "source": [],
      "metadata": {
        "id": "C2Kp-jBcp769"
      },
      "id": "C2Kp-jBcp769",
      "execution_count": 21,
      "outputs": []
    }
  ],
  "metadata": {
    "kernelspec": {
      "display_name": "Python 3",
      "language": "python",
      "name": "python3"
    },
    "language_info": {
      "name": "python",
      "version": "3.8"
    },
    "colab": {
      "provenance": []
    }
  },
  "nbformat": 4,
  "nbformat_minor": 5
}