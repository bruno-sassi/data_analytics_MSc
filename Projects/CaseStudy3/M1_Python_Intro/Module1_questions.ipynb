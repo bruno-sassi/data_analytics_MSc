{
  "cells": [
    {
      "cell_type": "markdown",
      "id": "5ecab696",
      "metadata": {
        "id": "5ecab696"
      },
      "source": [
        "# 💻 In-class Exercise: Financial Returns\n",
        "In this notebook, you'll practice calculating and comparing different types of returns: **simple return**, **compound return (CAGR)**, and **continuous return**, including the effect of **dividends**.\n"
      ]
    },
    {
      "cell_type": "markdown",
      "id": "8098abd9",
      "metadata": {
        "id": "8098abd9"
      },
      "source": [
        "## 🧮 Problem 1: Interest on $1,000 Invested at 5% for 3 Years\n",
        "\n",
        "**Given:**\n",
        "- Initial Investment: $1,000\n",
        "- Annual Interest Rate: 5% (0.05)\n",
        "- Time: 3 years\n",
        "\n",
        "Solve for:\n",
        "- Simple Return\n",
        "- Future Value with Periodic (Annual) Compounding\n",
        "- Future Value with Continuous Compounding"
      ]
    },
    {
      "cell_type": "markdown",
      "id": "250be28e",
      "metadata": {
        "id": "250be28e"
      },
      "source": [
        "### 🔹 Simple Interest Formula:\n",
        "$$\n",
        "FV = PV \\times (1 + rt)\n",
        "$$\n",
        "- $PV$ = Principal (Initial Investment)\n",
        "- $r$ = Annual interest rate\n",
        "- $t$ = Number of years"
      ]
    },
    {
      "cell_type": "code",
      "execution_count": 7,
      "id": "d3698d6c",
      "metadata": {
        "id": "d3698d6c"
      },
      "outputs": [],
      "source": []
    },
    {
      "cell_type": "markdown",
      "id": "e3f0e917",
      "metadata": {
        "id": "e3f0e917"
      },
      "source": [
        "### 🔹 Periodic Compounding (Annual)\n",
        "$$\n",
        "FV = PV \\times \\left(1 + \\frac{r}{n}\\right)^{nt}\n",
        "$$\n",
        "- $n$ = number of compounding periods per year (annually = 1)"
      ]
    },
    {
      "cell_type": "code",
      "execution_count": 7,
      "id": "4393e4b1",
      "metadata": {
        "id": "4393e4b1"
      },
      "outputs": [],
      "source": []
    },
    {
      "cell_type": "markdown",
      "id": "7dbf2e07",
      "metadata": {
        "id": "7dbf2e07"
      },
      "source": [
        "### 🔹 Continuous Compounding\n",
        "$$\n",
        "FV = PV \\times e^{rt}\n",
        "$$\n",
        "Where $e \\approx 2.718$ is Euler’s number."
      ]
    },
    {
      "cell_type": "code",
      "execution_count": 7,
      "id": "6f9da652",
      "metadata": {
        "id": "6f9da652"
      },
      "outputs": [],
      "source": []
    },
    {
      "cell_type": "markdown",
      "source": [
        "## 🧮 Problem 2:\n",
        "\n",
        "**Given:**\n",
        "- Initial Investment: $2,000\n",
        "\n",
        "- Final Investment: $2,640\n",
        "\n",
        "- Dividens: $50\n",
        "\n",
        "- Years invested: 4\n",
        "\n",
        "Solve for:\n",
        "- Simple Return\n",
        "- Future Value with Periodic (Annual) Compounding\n",
        "- Future Value with Continuous Compounding"
      ],
      "metadata": {
        "id": "K9n8wXCdLjB4"
      },
      "id": "K9n8wXCdLjB4"
    },
    {
      "cell_type": "markdown",
      "id": "3d6dfd10",
      "metadata": {
        "id": "3d6dfd10"
      },
      "source": [
        "## 1️⃣ Simple Return with Dividends\n",
        "### 📌 Formula:\n",
        "$$\n",
        "\\text{Simple Return} = \\frac{P_{\\text{final}} + D - P_{\\text{initial}}}{P_{\\text{initial}}}\n",
        "$$\n",
        "**Where:**\n",
        "- $P_{\\text{initial}}$ = Initial investment\n",
        "- $P_{\\text{final}}$ = Final value\n",
        "- $D$ = Total dividends received"
      ]
    },
    {
      "cell_type": "code",
      "execution_count": 7,
      "id": "6159801e",
      "metadata": {
        "id": "6159801e"
      },
      "outputs": [],
      "source": []
    },
    {
      "cell_type": "markdown",
      "id": "fee0529a",
      "metadata": {
        "id": "fee0529a"
      },
      "source": [
        "## 2️⃣ Compound Annual Growth Rate (CAGR)\n",
        "### 📌 Formula:\n",
        "$$\n",
        "\\text{CAGR} = \\left(\\frac{P_{\\text{final}} + D}{P_{\\text{initial}}}\\right)^{\\frac{1}{t}} - 1\n",
        "$$\n",
        "**Where:**\n",
        "- $t$ = Number of years"
      ]
    },
    {
      "cell_type": "code",
      "execution_count": 7,
      "id": "4853c394",
      "metadata": {
        "id": "4853c394"
      },
      "outputs": [],
      "source": []
    },
    {
      "cell_type": "markdown",
      "id": "eca58715",
      "metadata": {
        "id": "eca58715"
      },
      "source": [
        "## 3️⃣ Continuous (Log) Return\n",
        "### 📌 Formula:\n",
        "$$\n",
        "\\text{Log Return} = \\ln\\left(\\frac{P_{\\text{final}} + D}{P_{\\text{initial}}}\\right)\n",
        "$$\n",
        "### To annualize:\n",
        "$$\n",
        "\\text{Annual Log Return} = \\frac{\\text{Log Return}}{t}\n",
        "$$"
      ]
    },
    {
      "cell_type": "code",
      "execution_count": 7,
      "id": "bc997d02",
      "metadata": {
        "id": "bc997d02"
      },
      "outputs": [],
      "source": []
    }
  ],
  "metadata": {
    "kernelspec": {
      "display_name": "Python 3",
      "language": "python",
      "name": "python3"
    },
    "colab": {
      "provenance": []
    }
  },
  "nbformat": 4,
  "nbformat_minor": 5
}