{
  "cells": [
    {
      "cell_type": "markdown",
      "metadata": {
        "id": "ZLz2-yapn4tA"
      },
      "source": [
        "# 📊 In-Class Exercise: Sampling & Inference for Financial Data\n",
        "\n",
        "In this exercise, you'll simulate sampling, compute confidence intervals, and perform hypothesis testing using Python. The dataset simulates daily returns for a financial index."
      ],
      "id": "ZLz2-yapn4tA"
    },
    {
      "cell_type": "code",
      "execution_count": 1,
      "metadata": {
        "colab": {
          "base_uri": "https://localhost:8080/"
        },
        "id": "kfYZZc23n4tC",
        "outputId": "c161d222-9dd2-4601-add4-5eec371aa096"
      },
      "outputs": [
        {
          "output_type": "execute_result",
          "data": {
            "text/plain": [
              "(1000, 1)"
            ]
          },
          "metadata": {},
          "execution_count": 1
        }
      ],
      "source": [
        "# Setup\n",
        "import numpy as np\n",
        "import pandas as pd\n",
        "import matplotlib.pyplot as plt\n",
        "from scipy.stats import norm\n",
        "\n",
        "# Simulated population data\n",
        "np.random.seed(42)\n",
        "population_returns = np.random.normal(loc=0.05, scale=0.02, size=1000)\n",
        "population = pd.DataFrame({'Return': population_returns})\n",
        "population.shape"
      ],
      "id": "kfYZZc23n4tC"
    },
    {
      "cell_type": "markdown",
      "metadata": {
        "id": "AYKF9Ep8n4tD"
      },
      "source": [
        "## 🔹 Part A: Distribution of Sample Means\n",
        "**Task:** Draw 100 random samples (size=30), calculate sample means, and plot their distribution."
      ],
      "id": "AYKF9Ep8n4tD"
    },
    {
      "cell_type": "code",
      "execution_count": 2,
      "metadata": {
        "colab": {
          "base_uri": "https://localhost:8080/",
          "height": 472
        },
        "id": "xUfdyCUTn4tD",
        "outputId": "8729632d-3f6b-4e16-b50b-78c309ebe12c"
      },
      "outputs": [
        {
          "output_type": "display_data",
          "data": {
            "text/plain": [
              "<Figure size 640x480 with 1 Axes>"
            ],
            "image/png": "[encoded data removed]"
          },
          "metadata": {}
        }
      ],
      "source": [
        "sample_means = []\n",
        "\n",
        "for _ in range(100):\n",
        "    sample = population.sample(n=30, replace=False)\n",
        "    sample_means.append(sample['Return'].mean())\n",
        "\n",
        "# Plotting\n",
        "plt.hist(sample_means, bins=20, edgecolor='black')\n",
        "plt.title(\"Sampling Distribution of the Mean\")\n",
        "plt.xlabel(\"Sample Mean\")\n",
        "plt.ylabel(\"Frequency\")\n",
        "plt.show()"
      ],
      "id": "xUfdyCUTn4tD"
    },
    {
      "cell_type": "markdown",
      "metadata": {
        "id": "j87b11jnn4tD"
      },
      "source": [
        "**Q: What is the shape of the histogram?**\n",
        "**Q: What does this tell you about the Central Limit Theorem?**"
      ],
      "id": "j87b11jnn4tD"
    },
    {
      "cell_type": "markdown",
      "source": [
        "The histogram of the 100 sample means (each from samples of size 30) is:\n",
        "\n",
        "*   Bell-shaped\n",
        "*   Approximately symmetric\n",
        "*   Closely resembles a normal distribution\n",
        "\n",
        "\n",
        "The results support the Central Limit Theorem, which states:\n",
        "\n",
        "\n",
        "*   Regardless of the shape of the population distribution, the distribution of the sample means tends toward a normal distribution as the sample size increases.\n",
        "\n",
        "\n",
        "\n",
        "\n",
        "\n",
        "\n",
        "\n",
        "\n"
      ],
      "metadata": {
        "id": "_qpbdB7wKEmv"
      },
      "id": "_qpbdB7wKEmv"
    },
    {
      "cell_type": "markdown",
      "metadata": {
        "id": "G6HCf39nn4tE"
      },
      "source": [
        "## 🔹 Part B: Confidence Interval for the Mean\n",
        "**Task:** Take one sample (size=50), calculate the 95% confidence interval for the population mean."
      ],
      "id": "G6HCf39nn4tE"
    },
    {
      "cell_type": "code",
      "execution_count": 4,
      "metadata": {
        "colab": {
          "base_uri": "https://localhost:8080/"
        },
        "id": "7xapNSLpn4tE",
        "outputId": "e216665e-cd74-4dd3-a4aa-a7dc83581973"
      },
      "outputs": [
        {
          "output_type": "stream",
          "name": "stdout",
          "text": [
            "Sample Mean: 0.0489\n",
            "95% Confidence Interval: (np.float64(0.04429201533715961), np.float64(0.053596712566573))\n"
          ]
        }
      ],
      "source": [
        "sample = population.sample(n=50, replace=False)\n",
        "mean = sample['Return'].mean()\n",
        "std = 0.02\n",
        "n = 50\n",
        "z = norm.ppf(0.95)\n",
        "se = std / np.sqrt(n)\n",
        "ci = (mean - z * se, mean + z * se)\n",
        "\n",
        "print(f\"Sample Mean: {mean:.4f}\")\n",
        "print(f\"95% Confidence Interval: {ci}\")"
      ],
      "id": "7xapNSLpn4tE"
    },
    {
      "cell_type": "markdown",
      "metadata": {
        "id": "nR0phggxn4tE"
      },
      "source": [
        "**Q: Does your confidence interval contain the true population mean (0.05)?**\n",
        "**Q: What happens if you increase the sample size to 200? Try it.**"
      ],
      "id": "nR0phggxn4tE"
    },
    {
      "cell_type": "markdown",
      "source": [
        "When the confidence interval (CI) contains the true population mean (μ), you can conclude:\n",
        "\n",
        "🎯 1. The sample provided a good estimate of the population mean\n",
        "\n",
        "*   The sample mean is not too far off from the true mean.\n",
        "*   CI calculation — based on this sample — has likely captured the population mean accurately.\n",
        "\n",
        "📊 2. The method is statistically sound\n",
        "\n",
        "*   A 95% confidence level means: If you repeat the sampling process many times, and calculate a 95% CI each time, approximately 95% of those intervals will contain the true population mean.\n"
      ],
      "metadata": {
        "id": "U1s8oKdlHimf"
      },
      "id": "U1s8oKdlHimf"
    },
    {
      "cell_type": "markdown",
      "metadata": {
        "id": "6B96XxScn4tE"
      },
      "source": [
        "## 🔹 Part C: Hypothesis Testing\n",
        "**Claim:** The mean daily return is greater than 0.04.\n",
        "\n",
        "Perform a one-sample z-test using the sample from Part B."
      ],
      "id": "6B96XxScn4tE"
    },
    {
      "cell_type": "code",
      "execution_count": 5,
      "metadata": {
        "colab": {
          "base_uri": "https://localhost:8080/"
        },
        "id": "T_RNRbkOn4tE",
        "outputId": "3a8b35f1-81a5-4ef2-ef44-b83a32086167"
      },
      "outputs": [
        {
          "output_type": "stream",
          "name": "stdout",
          "text": [
            "Z-score: 3.16\n",
            "P-value: 0.0007826137\n"
          ]
        }
      ],
      "source": [
        "mu_0 = 0.04\n",
        "z_score = (mean - mu_0) / (std / np.sqrt(n))\n",
        "p_value = 1 - norm.cdf(z_score)\n",
        "\n",
        "print(f\"Z-score: {z_score:.2f}\")\n",
        "print(f\"P-value: {p_value:.10f}\")"
      ],
      "id": "T_RNRbkOn4tE"
    },
    {
      "cell_type": "markdown",
      "metadata": {
        "id": "_nz7xf2tn4tE"
      },
      "source": [
        "**Q: Should you reject the null hypothesis at α = 0.05? Why or why not?**"
      ],
      "id": "_nz7xf2tn4tE"
    },
    {
      "cell_type": "markdown",
      "source": [
        "The claim was tested:\n",
        "\n",
        "\"The mean daily return is greater than 0.04\"\n",
        "(i.e., 𝐻0: 𝜇<=0.04. vs 𝐻1: 𝜇>0.04)\n",
        "\n",
        "Since the p-value< 0.05, we reject the null hypothesis at the 5% significance level. This means the data provides strong evidence that the mean daily return is greater than 0.04.\n",
        "\n",
        "✅ Conclusion: The sample supports the claim that the mean daily return is significantly greater than 0.04."
      ],
      "metadata": {
        "id": "kZ0iqqEoJGI5"
      },
      "id": "kZ0iqqEoJGI5"
    },
    {
      "cell_type": "markdown",
      "metadata": {
        "id": "ukIQXIyen4tE"
      },
      "source": [
        "## ✅ Wrap-Up Reflection\n",
        "- What did you learn about sample size and reliability?\n",
        "- How do confidence intervals help in financial analysis?\n",
        "- What are the risks of making decisions from one sample?"
      ],
      "id": "ukIQXIyen4tE"
    },
    {
      "cell_type": "markdown",
      "source": [
        "## ✅ Wrap-Up Reflection\n",
        "1. What did you learn about sample size and reliability?\n",
        "\n",
        "*   Larger sample sizes lead to more stable estimates of population parameters.\n",
        "*   Confidence intervals become narrower with larger samples, increasing the precision of estimates.\n",
        "*   Small samples have more variability and may misrepresent the population.\n",
        "\n",
        "2. How do confidence intervals help in financial analysis?\n",
        "\n",
        "*   Confidence intervals quantify uncertainty around estimates (like average returns).\n",
        "*   They provide a range of likely outcomes instead of a single point, which is useful in risk analysis and investment decisions.\n",
        "*   Analysts can use CIs to assess if a strategy's return is significantly different from a benchmark.\n",
        "\n",
        "3. What are the risks of making decisions from one sample?\n",
        "\n",
        "*   One sample may not be representative, especially if it's small or biased.\n",
        "*   Random variation can lead to incorrect conclusions (e.g., thinking a strategy works when it doesn't).\n",
        "*   Overconfidence in a single sample estimate can lead to poor investment decisions."
      ],
      "metadata": {
        "id": "duFAckU1qHGm"
      },
      "id": "duFAckU1qHGm"
    }
  ],
  "metadata": {
    "kernelspec": {
      "display_name": "Python 3",
      "language": "python",
      "name": "python3"
    },
    "language_info": {
      "name": "python",
      "version": "3.x"
    },
    "colab": {
      "provenance": []
    }
  },
  "nbformat": 4,
  "nbformat_minor": 5
}