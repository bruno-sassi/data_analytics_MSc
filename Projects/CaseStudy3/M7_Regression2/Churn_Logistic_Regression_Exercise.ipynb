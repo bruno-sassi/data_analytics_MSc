{
  "cells": [
    {
      "cell_type": "markdown",
      "id": "fcce4857",
      "metadata": {
        "id": "fcce4857"
      },
      "source": [
        "# Logistic Regression: Customer Churn Prediction\n",
        "\n",
        "This notebook applies logistic regression to predict whether a customer will churn based on demographics and service usage information."
      ]
    },
    {
      "cell_type": "code",
      "execution_count": 26,
      "id": "0fd42d16",
      "metadata": {
        "id": "0fd42d16"
      },
      "outputs": [],
      "source": [
        "import pandas as pd\n",
        "import numpy as np\n",
        "import statsmodels.api as sm\n",
        "\n",
        "# Load dataset\n"
      ]
    },
    {
      "cell_type": "code",
      "source": [
        "#Encode Gender"
      ],
      "metadata": {
        "id": "wwl92u79Ttnk"
      },
      "id": "wwl92u79Ttnk",
      "execution_count": 27,
      "outputs": []
    },
    {
      "cell_type": "code",
      "execution_count": 28,
      "id": "216614eb",
      "metadata": {
        "id": "216614eb"
      },
      "outputs": [],
      "source": [
        "# Define predictors and target"
      ]
    },
    {
      "cell_type": "code",
      "source": [
        "# Fit logistic regression"
      ],
      "metadata": {
        "id": "Ywy1KNdfUleL"
      },
      "id": "Ywy1KNdfUleL",
      "execution_count": 29,
      "outputs": []
    },
    {
      "cell_type": "code",
      "execution_count": 30,
      "id": "6452f8cb",
      "metadata": {
        "id": "6452f8cb"
      },
      "outputs": [],
      "source": [
        "# Extract p-values and odds ratios\n"
      ]
    },
    {
      "cell_type": "markdown",
      "id": "a3f0bdb9",
      "metadata": {
        "id": "a3f0bdb9"
      },
      "source": [
        "### 🧠 Interpretation Questions\n",
        "1. Which variables are statistically significant? Answer: P_Value<0.05\n",
        "2. Interpret the odds ratio for `Gender`. What does it tell you?\n",
        "3. Which variables increase or decrease the odds of churn?\n",
        "\n"
      ]
    }
  ],
  "metadata": {
    "colab": {
      "provenance": []
    },
    "language_info": {
      "name": "python"
    },
    "kernelspec": {
      "name": "python3",
      "display_name": "Python 3"
    }
  },
  "nbformat": 4,
  "nbformat_minor": 5
}